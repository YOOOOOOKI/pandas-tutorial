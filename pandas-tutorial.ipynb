{
 "cells": [
  {
   "cell_type": "markdown",
   "metadata": {},
   "source": [
    "# Pandas基础\n",
    "\n",
    "### 七月在线python数据分析班 2017升级版 julyedu.com"
   ]
  },
  {
   "cell_type": "markdown",
   "metadata": {
    "collapsed": true
   },
   "source": [
    "pandas是一个专门用于数据分析的python library，pandas的开发基于numpy，所以pandas的各种功能和numpy很像，也是一个运行效率很高的library。"
   ]
  },
  {
   "cell_type": "markdown",
   "metadata": {},
   "source": [
    "## Pandas简介\n",
    "- python数据分析library [Pandas](http://pandas.pydata.org/)\n",
    "- 有一种用python做Excel和SQL的感觉"
   ]
  },
  {
   "cell_type": "markdown",
   "metadata": {},
   "source": [
    "## 数据结构Series\n",
    "\n",
    "### 七月在线python数据分析班 2017升级版 julyedu.com"
   ]
  },
  {
   "cell_type": "markdown",
   "metadata": {},
   "source": [
    "### 构造和初始化Series"
   ]
  },
  {
   "cell_type": "code",
   "execution_count": 64,
   "metadata": {
    "collapsed": true
   },
   "outputs": [],
   "source": [
    "import pandas as pd\n",
    "import numpy as np\n",
    "pd.set_option(\"max_columns\", 50)"
   ]
  },
  {
   "cell_type": "code",
   "execution_count": null,
   "metadata": {
    "collapsed": true
   },
   "outputs": [],
   "source": [
    "Series是一个一维的数据结构"
   ]
  },
  {
   "cell_type": "code",
   "execution_count": 65,
   "metadata": {},
   "outputs": [
    {
     "data": {
      "text/plain": [
       "0                  7\n",
       "1            Beijing\n",
       "2               2.17\n",
       "3             -12344\n",
       "4    Happy Birthday!\n",
       "dtype: object"
      ]
     },
     "execution_count": 65,
     "metadata": {},
     "output_type": "execute_result"
    }
   ],
   "source": [
    "s = pd.Series([7, 'Beijing', 2.17, -12344, 'Happy Birthday!'])\n",
    "s"
   ]
  },
  {
   "cell_type": "markdown",
   "metadata": {},
   "source": [
    "pandas会默认用0到n来作为Series的index，但是我们也可以自己指定index。"
   ]
  },
  {
   "cell_type": "code",
   "execution_count": 10,
   "metadata": {},
   "outputs": [
    {
     "data": {
      "text/plain": [
       "A                  7\n",
       "B            Beijing\n",
       "C               2.17\n",
       "D             -12344\n",
       "E    Happy Birthday!\n",
       "dtype: object"
      ]
     },
     "execution_count": 10,
     "metadata": {},
     "output_type": "execute_result"
    }
   ],
   "source": [
    "s = pd.Series([7, 'Beijing', 2.17, -12344, 'Happy Birthday!'],\n",
    "             index=['A', 'B', 'C', 'D', 'E'])\n",
    "s"
   ]
  },
  {
   "cell_type": "markdown",
   "metadata": {},
   "source": [
    "还可以用dictionary来构造一个Series，因为Series本来就是key value pairs。"
   ]
  },
  {
   "cell_type": "code",
   "execution_count": 33,
   "metadata": {},
   "outputs": [
    {
     "data": {
      "text/plain": [
       "Beijing      55000.0\n",
       "Guangzhou    25000.0\n",
       "Hangzhou     20000.0\n",
       "Shanghai     60000.0\n",
       "Shenzhen     50000.0\n",
       "Suzhou           NaN\n",
       "dtype: float64"
      ]
     },
     "execution_count": 33,
     "metadata": {},
     "output_type": "execute_result"
    }
   ],
   "source": [
    "cities = {'Beijing': 55000, 'Shanghai': 60000, 'Shenzhen': 50000, 'Hangzhou': 20000, 'Guangzhou': 25000, 'Suzhou': None}\n",
    "apts = pd.Series(cities)\n",
    "apts"
   ]
  },
  {
   "cell_type": "markdown",
   "metadata": {},
   "source": [
    "### 选择数据"
   ]
  },
  {
   "cell_type": "markdown",
   "metadata": {},
   "source": [
    "前面定义的index就是用来选择数据的"
   ]
  },
  {
   "cell_type": "code",
   "execution_count": 34,
   "metadata": {},
   "outputs": [
    {
     "data": {
      "text/plain": [
       "20000.0"
      ]
     },
     "execution_count": 34,
     "metadata": {},
     "output_type": "execute_result"
    }
   ],
   "source": [
    "apts[\"Hangzhou\"]"
   ]
  },
  {
   "cell_type": "code",
   "execution_count": 35,
   "metadata": {},
   "outputs": [
    {
     "data": {
      "text/plain": [
       "Hangzhou    20000.0\n",
       "Beijing     55000.0\n",
       "Shenzhen    50000.0\n",
       "dtype: float64"
      ]
     },
     "execution_count": 35,
     "metadata": {},
     "output_type": "execute_result"
    }
   ],
   "source": [
    "apts[[\"Hangzhou\", \"Beijing\", \"Shenzhen\"]]"
   ]
  },
  {
   "cell_type": "markdown",
   "metadata": {},
   "source": [
    "大家还记得上次numpy讲到的boolean indexing吗？pandas当中也可以使用。"
   ]
  },
  {
   "cell_type": "code",
   "execution_count": 36,
   "metadata": {},
   "outputs": [
    {
     "data": {
      "text/plain": [
       "Guangzhou    25000.0\n",
       "Hangzhou     20000.0\n",
       "dtype: float64"
      ]
     },
     "execution_count": 36,
     "metadata": {},
     "output_type": "execute_result"
    }
   ],
   "source": [
    "apts[apts < 50000]"
   ]
  },
  {
   "cell_type": "markdown",
   "metadata": {},
   "source": [
    "下面我再详细展示一下这个boolean indexing是如何工作的"
   ]
  },
  {
   "cell_type": "code",
   "execution_count": 37,
   "metadata": {},
   "outputs": [
    {
     "name": "stdout",
     "output_type": "stream",
     "text": [
      "Beijing      False\n",
      "Guangzhou     True\n",
      "Hangzhou      True\n",
      "Shanghai     False\n",
      "Shenzhen     False\n",
      "Suzhou       False\n",
      "dtype: bool\n",
      "\n",
      "Guangzhou    25000.0\n",
      "Hangzhou     20000.0\n",
      "dtype: float64\n"
     ]
    }
   ],
   "source": [
    "less_than_50000 = apts < 50000\n",
    "print(less_than_50000)\n",
    "print()\n",
    "print(apts[less_than_50000])"
   ]
  },
  {
   "cell_type": "markdown",
   "metadata": {},
   "source": [
    "### Series元素赋值"
   ]
  },
  {
   "cell_type": "markdown",
   "metadata": {},
   "source": [
    "Series的元素可以被赋值"
   ]
  },
  {
   "cell_type": "code",
   "execution_count": 38,
   "metadata": {},
   "outputs": [
    {
     "name": "stdout",
     "output_type": "stream",
     "text": [
      "Old value:  50000.0\n",
      "New value:  55000.0\n"
     ]
    }
   ],
   "source": [
    "print(\"Old value: \", apts['Shenzhen'])\n",
    "apts['Shenzhen'] = 55000\n",
    "print(\"New value: \", apts['Shenzhen'])"
   ]
  },
  {
   "cell_type": "markdown",
   "metadata": {},
   "source": [
    "前面讲过的boolean indexing在赋值的时候也可以用"
   ]
  },
  {
   "cell_type": "code",
   "execution_count": 39,
   "metadata": {},
   "outputs": [
    {
     "name": "stdout",
     "output_type": "stream",
     "text": [
      "Guangzhou    25000.0\n",
      "Hangzhou     20000.0\n",
      "dtype: float64\n",
      "\n",
      "Guangzhou    40000.0\n",
      "Hangzhou     40000.0\n",
      "dtype: float64\n"
     ]
    }
   ],
   "source": [
    "print(apts[apts < 50000])\n",
    "print()\n",
    "apts[apts <= 50000] = 40000\n",
    "print(apts[apts < 50000])"
   ]
  },
  {
   "cell_type": "markdown",
   "metadata": {},
   "source": [
    "https://github.com/obust/Pandas-Tutorial/blob/master/Pandas%20I%20-%20Series%20and%20DataFrames.ipynb"
   ]
  },
  {
   "cell_type": "markdown",
   "metadata": {},
   "source": [
    "### 数学运算"
   ]
  },
  {
   "cell_type": "markdown",
   "metadata": {},
   "source": [
    "下面我们来讲一些基本的数学运算。"
   ]
  },
  {
   "cell_type": "code",
   "execution_count": 40,
   "metadata": {},
   "outputs": [
    {
     "data": {
      "text/plain": [
       "Beijing      27500.0\n",
       "Guangzhou    20000.0\n",
       "Hangzhou     20000.0\n",
       "Shanghai     30000.0\n",
       "Shenzhen     27500.0\n",
       "Suzhou           NaN\n",
       "dtype: float64"
      ]
     },
     "execution_count": 40,
     "metadata": {},
     "output_type": "execute_result"
    }
   ],
   "source": [
    "apts / 2"
   ]
  },
  {
   "cell_type": "code",
   "execution_count": 41,
   "metadata": {},
   "outputs": [
    {
     "data": {
      "text/plain": [
       "Beijing      3.025000e+09\n",
       "Guangzhou    1.600000e+09\n",
       "Hangzhou     1.600000e+09\n",
       "Shanghai     3.600000e+09\n",
       "Shenzhen     3.025000e+09\n",
       "Suzhou                NaN\n",
       "dtype: float64"
      ]
     },
     "execution_count": 41,
     "metadata": {},
     "output_type": "execute_result"
    }
   ],
   "source": [
    "np.square(apts)"
   ]
  },
  {
   "cell_type": "code",
   "execution_count": 31,
   "metadata": {},
   "outputs": [
    {
     "data": {
      "text/plain": [
       "Beijing      300000\n",
       "Chongqing    150000\n",
       "Guangzhou    200000\n",
       "Shanghai     400000\n",
       "Shenzhen     300000\n",
       "Tianjin      200000\n",
       "dtype: int64"
      ]
     },
     "execution_count": 31,
     "metadata": {},
     "output_type": "execute_result"
    }
   ],
   "source": [
    "cars = pd.Series({'Beijing': 300000, 'Shanghai': 400000, 'Shenzhen': 300000, \\\n",
    "                      'Tianjin': 200000, 'Guangzhou': 200000, 'Chongqing': 150000})\n",
    "cars"
   ]
  },
  {
   "cell_type": "code",
   "execution_count": 42,
   "metadata": {},
   "outputs": [
    {
     "name": "stdout",
     "output_type": "stream",
     "text": [
      "Beijing      5800000.0\n",
      "Chongqing          NaN\n",
      "Guangzhou    4200000.0\n",
      "Hangzhou           NaN\n",
      "Shanghai     6400000.0\n",
      "Shenzhen     5800000.0\n",
      "Suzhou             NaN\n",
      "Tianjin            NaN\n",
      "dtype: float64\n"
     ]
    }
   ],
   "source": [
    "print(cars + apts * 100)"
   ]
  },
  {
   "cell_type": "markdown",
   "metadata": {},
   "source": [
    "### 数据缺失"
   ]
  },
  {
   "cell_type": "code",
   "execution_count": 44,
   "metadata": {},
   "outputs": [
    {
     "name": "stdout",
     "output_type": "stream",
     "text": [
      "True\n",
      "False\n"
     ]
    }
   ],
   "source": [
    "print('Hangzhou' in apts)\n",
    "print('Hangzhou' in cars)"
   ]
  },
  {
   "cell_type": "code",
   "execution_count": 45,
   "metadata": {},
   "outputs": [
    {
     "data": {
      "text/plain": [
       "Beijing       True\n",
       "Guangzhou     True\n",
       "Hangzhou      True\n",
       "Shanghai      True\n",
       "Shenzhen      True\n",
       "Suzhou       False\n",
       "dtype: bool"
      ]
     },
     "execution_count": 45,
     "metadata": {},
     "output_type": "execute_result"
    }
   ],
   "source": [
    "apts.notnull()"
   ]
  },
  {
   "cell_type": "code",
   "execution_count": 46,
   "metadata": {},
   "outputs": [
    {
     "name": "stdout",
     "output_type": "stream",
     "text": [
      "Beijing      False\n",
      "Guangzhou    False\n",
      "Hangzhou     False\n",
      "Shanghai     False\n",
      "Shenzhen     False\n",
      "Suzhou        True\n",
      "dtype: bool\n",
      "\n",
      "Suzhou   NaN\n",
      "dtype: float64\n"
     ]
    }
   ],
   "source": [
    "print(apts.isnull())\n",
    "print()\n",
    "print(apts[apts.isnull()])"
   ]
  },
  {
   "cell_type": "markdown",
   "metadata": {},
   "source": [
    "## 数据结构Dataframe"
   ]
  },
  {
   "cell_type": "markdown",
   "metadata": {},
   "source": [
    "一个Dataframe就是一张表格，Series表示的是一维数组，Dataframe则是一个二维数组，可以类比成一张excel的表格。也可以把Dataframe当做一个一组Series的集合。"
   ]
  },
  {
   "cell_type": "markdown",
   "metadata": {},
   "source": [
    "dataframe可以由一个dictionary构造得到。"
   ]
  },
  {
   "cell_type": "code",
   "execution_count": 66,
   "metadata": {},
   "outputs": [
    {
     "name": "stdout",
     "output_type": "stream",
     "text": [
      "        city  population  year\n",
      "0    Beijing        2100  2016\n",
      "1   Shanghai        2300  2017\n",
      "2  Guangzhou        1000  2016\n",
      "3   Shenzhen         700  2017\n",
      "4   Hangzhou         500  2016\n",
      "5  Chongqing         500  2016\n",
      "   year       city  population\n",
      "0  2016    Beijing        2100\n",
      "1  2017   Shanghai        2300\n",
      "2  2016  Guangzhou        1000\n",
      "3  2017   Shenzhen         700\n",
      "4  2016   Hangzhou         500\n",
      "5  2016  Chongqing         500\n"
     ]
    }
   ],
   "source": [
    "data = {'city': ['Beijing', 'Shanghai', 'Guangzhou', 'Shenzhen', 'Hangzhou', 'Chongqing'],\n",
    "       'year': [2016,2017,2016,2017,2016, 2016],\n",
    "       'population': [2100, 2300, 1000, 700, 500, 500]}\n",
    "print(pd.DataFrame(data))\n",
    "print(pd.DataFrame(data, columns=['year', 'city', 'population']))"
   ]
  },
  {
   "cell_type": "code",
   "execution_count": 68,
   "metadata": {},
   "outputs": [
    {
     "name": "stdout",
     "output_type": "stream",
     "text": [
      "       year       city  population debt\n",
      "one    2016    Beijing        2100  NaN\n",
      "two    2017   Shanghai        2300  NaN\n",
      "three  2016  Guangzhou        1000  NaN\n",
      "four   2017   Shenzhen         700  NaN\n",
      "five   2016   Hangzhou         500  NaN\n",
      "six    2016  Chongqing         500  NaN\n"
     ]
    }
   ],
   "source": [
    "frame2 = pd.DataFrame(data, \\\n",
    "                     columns = ['year', 'city', 'population', 'debt'],\n",
    "                     index = ['one', 'two', 'three', 'four', 'five', 'six'])\n",
    "print(frame2)"
   ]
  },
  {
   "cell_type": "code",
   "execution_count": 69,
   "metadata": {},
   "outputs": [
    {
     "name": "stdout",
     "output_type": "stream",
     "text": [
      "one        Beijing\n",
      "two       Shanghai\n",
      "three    Guangzhou\n",
      "four      Shenzhen\n",
      "five      Hangzhou\n",
      "six      Chongqing\n",
      "Name: city, dtype: object\n",
      "one      2016\n",
      "two      2017\n",
      "three    2016\n",
      "four     2017\n",
      "five     2016\n",
      "six      2016\n",
      "Name: year, dtype: int64\n",
      "year               2016\n",
      "city          Guangzhou\n",
      "population         1000\n",
      "debt                NaN\n",
      "Name: three, dtype: object\n"
     ]
    }
   ],
   "source": [
    "print(frame2['city'])\n",
    "print(frame2.year)\n",
    "print(frame2.ix['three'])"
   ]
  },
  {
   "cell_type": "markdown",
   "metadata": {},
   "source": [
    "下面我们来更改DataFrame里的值"
   ]
  },
  {
   "cell_type": "code",
   "execution_count": 70,
   "metadata": {},
   "outputs": [
    {
     "name": "stdout",
     "output_type": "stream",
     "text": [
      "       year       city  population  debt\n",
      "one    2016    Beijing        2100   100\n",
      "two    2017   Shanghai        2300   100\n",
      "three  2016  Guangzhou        1000   100\n",
      "four   2017   Shenzhen         700   100\n",
      "five   2016   Hangzhou         500   100\n",
      "six    2016  Chongqing         500   100\n"
     ]
    }
   ],
   "source": [
    "frame2['debt'] = 100\n",
    "print(frame2)"
   ]
  },
  {
   "cell_type": "code",
   "execution_count": 72,
   "metadata": {},
   "outputs": [
    {
     "name": "stdout",
     "output_type": "stream",
     "text": [
      "       year       city  population  debt\n",
      "one    2016    Beijing        2100     0\n",
      "two    2017   Shanghai        2300     1\n",
      "three  2016  Guangzhou        1000     2\n",
      "four   2017   Shenzhen         700     3\n",
      "five   2016   Hangzhou         500     4\n",
      "six    2016  Chongqing         500     5\n"
     ]
    }
   ],
   "source": [
    "frame2.debt = np.arange(6)\n",
    "print(frame2)"
   ]
  },
  {
   "cell_type": "markdown",
   "metadata": {},
   "source": [
    "还可以用Series来指定需要修改的index以及相对应的value，没有指定的默认用NaN."
   ]
  },
  {
   "cell_type": "code",
   "execution_count": 73,
   "metadata": {},
   "outputs": [
    {
     "name": "stdout",
     "output_type": "stream",
     "text": [
      "       year       city  population   debt\n",
      "one    2016    Beijing        2100    NaN\n",
      "two    2017   Shanghai        2300  100.0\n",
      "three  2016  Guangzhou        1000  200.0\n",
      "four   2017   Shenzhen         700    NaN\n",
      "five   2016   Hangzhou         500  300.0\n",
      "six    2016  Chongqing         500    NaN\n"
     ]
    }
   ],
   "source": [
    "val = pd.Series([100, 200, 300], index=['two', 'three', 'five'])\n",
    "frame2['debt'] = val\n",
    "print(frame2)"
   ]
  },
  {
   "cell_type": "code",
   "execution_count": 74,
   "metadata": {},
   "outputs": [
    {
     "name": "stdout",
     "output_type": "stream",
     "text": [
      "       year       city  population   debt western\n",
      "one    2016    Beijing        2100    NaN   False\n",
      "two    2017   Shanghai        2300  100.0   False\n",
      "three  2016  Guangzhou        1000  200.0   False\n",
      "four   2017   Shenzhen         700    NaN   False\n",
      "five   2016   Hangzhou         500  300.0   False\n",
      "six    2016  Chongqing         500    NaN    True\n"
     ]
    }
   ],
   "source": [
    "frame2['western'] = (frame2.city == 'Chongqing')\n",
    "print(frame2)"
   ]
  },
  {
   "cell_type": "code",
   "execution_count": 75,
   "metadata": {},
   "outputs": [
    {
     "name": "stdout",
     "output_type": "stream",
     "text": [
      "Index(['year', 'city', 'population', 'debt', 'western'], dtype='object')\n"
     ]
    }
   ],
   "source": [
    "print(frame2.columns)"
   ]
  },
  {
   "cell_type": "markdown",
   "metadata": {},
   "source": [
    "一个DataFrame就和一个numpy 2d array一样，可以被转置"
   ]
  },
  {
   "cell_type": "code",
   "execution_count": 77,
   "metadata": {
    "collapsed": true
   },
   "outputs": [],
   "source": [
    "pop = {'Beijing': {2016: 2100, 2017:2200},\n",
    "      'Shanghai': {2015:2400, 2016:2500, 2017:2600}}"
   ]
  },
  {
   "cell_type": "code",
   "execution_count": 78,
   "metadata": {},
   "outputs": [
    {
     "name": "stdout",
     "output_type": "stream",
     "text": [
      "      Beijing  Shanghai\n",
      "2015      NaN      2400\n",
      "2016   2100.0      2500\n",
      "2017   2200.0      2600\n",
      "            2015    2016    2017\n",
      "Beijing      NaN  2100.0  2200.0\n",
      "Shanghai  2400.0  2500.0  2600.0\n"
     ]
    }
   ],
   "source": [
    "frame3 = pd.DataFrame(pop)\n",
    "print(frame3)\n",
    "print(frame3.T)"
   ]
  },
  {
   "cell_type": "markdown",
   "metadata": {},
   "source": [
    "指定index的顺序，以及使用切片初始化数据"
   ]
  },
  {
   "cell_type": "code",
   "execution_count": 80,
   "metadata": {},
   "outputs": [
    {
     "name": "stdout",
     "output_type": "stream",
     "text": [
      "      Beijing  Shanghai\n",
      "2015      NaN      2400\n",
      "2016   2100.0      2500\n",
      "2017   2200.0      2600\n"
     ]
    }
   ],
   "source": [
    "print(pd.DataFrame(pop, index=[2015,2016,2017]))"
   ]
  },
  {
   "cell_type": "code",
   "execution_count": 82,
   "metadata": {},
   "outputs": [
    {
     "name": "stdout",
     "output_type": "stream",
     "text": [
      "      Beijing  Shanghai\n",
      "2015      NaN      2400\n",
      "2016   2100.0      2500\n"
     ]
    }
   ],
   "source": [
    "pdata = {'Beijing': frame3['Beijing'][:-1], 'Shanghai':frame3['Shanghai'][:-1]}\n",
    "print(pd.DataFrame(pdata))"
   ]
  },
  {
   "cell_type": "markdown",
   "metadata": {},
   "source": [
    "我们还可以指定index的名字和列的名字"
   ]
  },
  {
   "cell_type": "code",
   "execution_count": 84,
   "metadata": {},
   "outputs": [
    {
     "name": "stdout",
     "output_type": "stream",
     "text": [
      "city  Beijing  Shanghai\n",
      "year                   \n",
      "2015      NaN      2400\n",
      "2016   2100.0      2500\n",
      "2017   2200.0      2600\n"
     ]
    }
   ],
   "source": [
    "frame3.index.name = 'year'\n",
    "frame3.columns.name = 'city'\n",
    "print(frame3)"
   ]
  },
  {
   "cell_type": "code",
   "execution_count": 87,
   "metadata": {},
   "outputs": [
    {
     "name": "stdout",
     "output_type": "stream",
     "text": [
      "[[   nan  2400.]\n",
      " [ 2100.  2500.]\n",
      " [ 2200.  2600.]]\n",
      "       year       city  population   debt western\n",
      "one    2016    Beijing        2100    NaN   False\n",
      "two    2017   Shanghai        2300  100.0   False\n",
      "three  2016  Guangzhou        1000  200.0   False\n",
      "four   2017   Shenzhen         700    NaN   False\n",
      "five   2016   Hangzhou         500  300.0   False\n",
      "six    2016  Chongqing         500    NaN    True\n",
      "<class 'numpy.ndarray'>\n"
     ]
    }
   ],
   "source": [
    "print(frame3.values)\n",
    "print(frame2)\n",
    "print(type(frame2.values))"
   ]
  },
  {
   "cell_type": "markdown",
   "metadata": {},
   "source": [
    "### index object"
   ]
  },
  {
   "cell_type": "code",
   "execution_count": 24,
   "metadata": {},
   "outputs": [
    {
     "name": "stdout",
     "output_type": "stream",
     "text": [
      "Index(['b', 'c'], dtype='object')\n"
     ]
    }
   ],
   "source": [
    "obj = pd.Series(range(3), index = ['a', 'b', 'c'])\n",
    "index = obj.index\n",
    "print(index[1:])"
   ]
  },
  {
   "cell_type": "code",
   "execution_count": 91,
   "metadata": {},
   "outputs": [
    {
     "ename": "TypeError",
     "evalue": "Index does not support mutable operations",
     "output_type": "error",
     "traceback": [
      "\u001b[1;31m---------------------------------------------------------------------------\u001b[0m",
      "\u001b[1;31mTypeError\u001b[0m                                 Traceback (most recent call last)",
      "\u001b[1;32m<ipython-input-91-676fdeb26a68>\u001b[0m in \u001b[0;36m<module>\u001b[1;34m()\u001b[0m\n\u001b[1;32m----> 1\u001b[1;33m \u001b[0mindex\u001b[0m\u001b[1;33m[\u001b[0m\u001b[1;36m1\u001b[0m\u001b[1;33m]\u001b[0m \u001b[1;33m=\u001b[0m \u001b[1;34m'd'\u001b[0m\u001b[1;33m\u001b[0m\u001b[0m\n\u001b[0m",
      "\u001b[1;32mc:\\users\\jasonchuzewei\\anaconda3\\envs\\julyedu\\lib\\site-packages\\pandas\\indexes\\base.py\u001b[0m in \u001b[0;36m__setitem__\u001b[1;34m(self, key, value)\u001b[0m\n\u001b[0;32m   1402\u001b[0m \u001b[1;33m\u001b[0m\u001b[0m\n\u001b[0;32m   1403\u001b[0m     \u001b[1;32mdef\u001b[0m \u001b[0m__setitem__\u001b[0m\u001b[1;33m(\u001b[0m\u001b[0mself\u001b[0m\u001b[1;33m,\u001b[0m \u001b[0mkey\u001b[0m\u001b[1;33m,\u001b[0m \u001b[0mvalue\u001b[0m\u001b[1;33m)\u001b[0m\u001b[1;33m:\u001b[0m\u001b[1;33m\u001b[0m\u001b[0m\n\u001b[1;32m-> 1404\u001b[1;33m         \u001b[1;32mraise\u001b[0m \u001b[0mTypeError\u001b[0m\u001b[1;33m(\u001b[0m\u001b[1;34m\"Index does not support mutable operations\"\u001b[0m\u001b[1;33m)\u001b[0m\u001b[1;33m\u001b[0m\u001b[0m\n\u001b[0m\u001b[0;32m   1405\u001b[0m \u001b[1;33m\u001b[0m\u001b[0m\n\u001b[0;32m   1406\u001b[0m     \u001b[1;32mdef\u001b[0m \u001b[0m__getitem__\u001b[0m\u001b[1;33m(\u001b[0m\u001b[0mself\u001b[0m\u001b[1;33m,\u001b[0m \u001b[0mkey\u001b[0m\u001b[1;33m)\u001b[0m\u001b[1;33m:\u001b[0m\u001b[1;33m\u001b[0m\u001b[0m\n",
      "\u001b[1;31mTypeError\u001b[0m: Index does not support mutable operations"
     ]
    }
   ],
   "source": [
    "index[1] = 'd'"
   ]
  },
  {
   "cell_type": "code",
   "execution_count": 92,
   "metadata": {},
   "outputs": [
    {
     "name": "stdout",
     "output_type": "stream",
     "text": [
      "0    2\n",
      "1    5\n",
      "2    7\n",
      "dtype: int64\n",
      "True\n"
     ]
    }
   ],
   "source": [
    "index = pd.Index(np.arange(3))\n",
    "obj2 = pd.Series([2,5,7], index=index)\n",
    "print(obj2)\n",
    "print(obj2.index is index)"
   ]
  },
  {
   "cell_type": "code",
   "execution_count": 93,
   "metadata": {},
   "outputs": [
    {
     "name": "stdout",
     "output_type": "stream",
     "text": [
      "True\n",
      "False\n"
     ]
    }
   ],
   "source": [
    "pop = {'Beijing': {2016: 2100, 2017:2200},\n",
    "      'Shanghai': {2015:2400, 2016:2500, 2017:2600}}\n",
    "frame3 = pd.DataFrame(pop)\n",
    "print('Shanghai' in frame3.columns)\n",
    "print('2015' in frame3.index)"
   ]
  },
  {
   "cell_type": "code",
   "execution_count": 94,
   "metadata": {},
   "outputs": [
    {
     "name": "stdout",
     "output_type": "stream",
     "text": [
      "True\n"
     ]
    }
   ],
   "source": [
    "print(2 in obj2.index)"
   ]
  },
  {
   "cell_type": "markdown",
   "metadata": {},
   "source": [
    "### 针对index进行索引和切片"
   ]
  },
  {
   "cell_type": "code",
   "execution_count": 26,
   "metadata": {},
   "outputs": [
    {
     "name": "stdout",
     "output_type": "stream",
     "text": [
      "1\n"
     ]
    }
   ],
   "source": [
    "obj = pd.Series(np.arange(4), index=['a', 'b', 'c', 'd'])\n",
    "print(obj['b'])"
   ]
  },
  {
   "cell_type": "markdown",
   "metadata": {},
   "source": [
    "默认的数字index依旧可以使用"
   ]
  },
  {
   "cell_type": "code",
   "execution_count": 29,
   "metadata": {},
   "outputs": [
    {
     "name": "stdout",
     "output_type": "stream",
     "text": [
      "3\n",
      "\n",
      "b    1\n",
      "d    3\n",
      "dtype: int32\n"
     ]
    }
   ],
   "source": [
    "print(obj[3])\n",
    "print()\n",
    "print(obj[[1,3]])"
   ]
  },
  {
   "cell_type": "code",
   "execution_count": 30,
   "metadata": {},
   "outputs": [
    {
     "name": "stdout",
     "output_type": "stream",
     "text": [
      "a    0\n",
      "b    1\n",
      "dtype: int32\n"
     ]
    }
   ],
   "source": [
    "print(obj[obj<2])"
   ]
  },
  {
   "cell_type": "markdown",
   "metadata": {},
   "source": [
    "下面介绍如何对Series进行切片"
   ]
  },
  {
   "cell_type": "code",
   "execution_count": 31,
   "metadata": {},
   "outputs": [
    {
     "name": "stdout",
     "output_type": "stream",
     "text": [
      "b    1\n",
      "c    2\n",
      "dtype: int32\n",
      "a    0\n",
      "b    5\n",
      "c    5\n",
      "d    3\n",
      "dtype: int32\n"
     ]
    }
   ],
   "source": [
    "print(obj['b':'c'])\n",
    "obj['b':'c'] = 5\n",
    "print(obj)"
   ]
  },
  {
   "cell_type": "markdown",
   "metadata": {},
   "source": [
    "对DataFrame进行Indexing与Series基本相同"
   ]
  },
  {
   "cell_type": "code",
   "execution_count": 33,
   "metadata": {
    "collapsed": true
   },
   "outputs": [],
   "source": [
    "frame = pd.DataFrame(np.arange(9).reshape(3,3), \n",
    "                    index = ['a', 'c', 'd'],\n",
    "                    columns = ['Hangzhou', 'Shenzhen', 'Nanjing'])"
   ]
  },
  {
   "cell_type": "code",
   "execution_count": 35,
   "metadata": {},
   "outputs": [
    {
     "name": "stdout",
     "output_type": "stream",
     "text": [
      "   Hangzhou  Shenzhen  Nanjing\n",
      "a         0         1        2\n",
      "c         3         4        5\n",
      "d         6         7        8\n"
     ]
    }
   ],
   "source": [
    "print(frame)"
   ]
  },
  {
   "cell_type": "code",
   "execution_count": 37,
   "metadata": {},
   "outputs": [
    {
     "name": "stdout",
     "output_type": "stream",
     "text": [
      "a    0\n",
      "c    3\n",
      "d    6\n",
      "Name: Hangzhou, dtype: int32\n"
     ]
    }
   ],
   "source": [
    "print(frame['Hangzhou'])"
   ]
  },
  {
   "cell_type": "code",
   "execution_count": 39,
   "metadata": {},
   "outputs": [
    {
     "name": "stdout",
     "output_type": "stream",
     "text": [
      "   Shenzhen  Nanjing\n",
      "a         1        2\n",
      "c         4        5\n",
      "d         7        8\n"
     ]
    }
   ],
   "source": [
    "print(frame[['Shenzhen', 'Nanjing']])"
   ]
  },
  {
   "cell_type": "code",
   "execution_count": 40,
   "metadata": {},
   "outputs": [
    {
     "name": "stdout",
     "output_type": "stream",
     "text": [
      "   Hangzhou  Shenzhen  Nanjing\n",
      "a         0         1        2\n",
      "c         3         4        5\n"
     ]
    }
   ],
   "source": [
    "print(frame[:2])"
   ]
  },
  {
   "cell_type": "code",
   "execution_count": 43,
   "metadata": {},
   "outputs": [
    {
     "name": "stdout",
     "output_type": "stream",
     "text": [
      "Hangzhou    0\n",
      "Shenzhen    1\n",
      "Nanjing     2\n",
      "Name: a, dtype: int32\n"
     ]
    }
   ],
   "source": [
    "print(frame.ix['a'])"
   ]
  },
  {
   "cell_type": "code",
   "execution_count": 45,
   "metadata": {},
   "outputs": [
    {
     "name": "stdout",
     "output_type": "stream",
     "text": [
      "   Shenzhen  Nanjing\n",
      "a         1        2\n",
      "d         7        8\n"
     ]
    }
   ],
   "source": [
    "print(frame.ix[['a','d'], ['Shenzhen', 'Nanjing']])"
   ]
  },
  {
   "cell_type": "code",
   "execution_count": 46,
   "metadata": {},
   "outputs": [
    {
     "name": "stdout",
     "output_type": "stream",
     "text": [
      "a    0\n",
      "c    3\n",
      "Name: Hangzhou, dtype: int32\n"
     ]
    }
   ],
   "source": [
    "print(frame.ix[:'c', 'Hangzhou'])"
   ]
  },
  {
   "cell_type": "markdown",
   "metadata": {},
   "source": [
    "DataFrame也可以用condition selection"
   ]
  },
  {
   "cell_type": "code",
   "execution_count": 47,
   "metadata": {},
   "outputs": [
    {
     "name": "stdout",
     "output_type": "stream",
     "text": [
      "   Hangzhou  Shenzhen  Nanjing\n",
      "c         3         4        5\n",
      "d         6         7        8\n"
     ]
    }
   ],
   "source": [
    "print(frame[frame.Hangzhou > 1])"
   ]
  },
  {
   "cell_type": "code",
   "execution_count": 48,
   "metadata": {},
   "outputs": [
    {
     "name": "stdout",
     "output_type": "stream",
     "text": [
      "  Hangzhou Shenzhen Nanjing\n",
      "a     True     True    True\n",
      "c     True     True   False\n",
      "d    False    False   False\n"
     ]
    }
   ],
   "source": [
    "print(frame < 5)"
   ]
  },
  {
   "cell_type": "code",
   "execution_count": 49,
   "metadata": {},
   "outputs": [
    {
     "name": "stdout",
     "output_type": "stream",
     "text": [
      "   Hangzhou  Shenzhen  Nanjing\n",
      "a         0         0        0\n",
      "c         0         0        5\n",
      "d         6         7        8\n"
     ]
    }
   ],
   "source": [
    "frame[frame < 5] = 0\n",
    "print(frame)"
   ]
  },
  {
   "cell_type": "markdown",
   "metadata": {},
   "source": [
    "### [reindex](http://pandas.pydata.org/pandas-docs/stable/generated/pandas.DataFrame.reindex.html)"
   ]
  },
  {
   "cell_type": "markdown",
   "metadata": {},
   "source": [
    "把一个Series或者DataFrame按照新的index顺序进行重排"
   ]
  },
  {
   "cell_type": "code",
   "execution_count": 3,
   "metadata": {
    "collapsed": true
   },
   "outputs": [],
   "source": [
    "import numpy as np\n",
    "import pandas as pd"
   ]
  },
  {
   "cell_type": "code",
   "execution_count": 4,
   "metadata": {},
   "outputs": [
    {
     "name": "stdout",
     "output_type": "stream",
     "text": [
      "d    4.5\n",
      "b    7.2\n",
      "a   -5.3\n",
      "c    3.2\n",
      "dtype: float64\n"
     ]
    }
   ],
   "source": [
    "obj = pd.Series([4.5, 7.2, -5.3, 3.2], index=['d', 'b', 'a', 'c'])\n",
    "print(obj)"
   ]
  },
  {
   "cell_type": "code",
   "execution_count": 5,
   "metadata": {},
   "outputs": [
    {
     "name": "stdout",
     "output_type": "stream",
     "text": [
      "a   -5.3\n",
      "b    7.2\n",
      "c    3.2\n",
      "d    4.5\n",
      "e    NaN\n",
      "dtype: float64\n"
     ]
    }
   ],
   "source": [
    "obj2 = obj.reindex(['a', 'b', 'c', 'd', 'e'])\n",
    "print(obj2)"
   ]
  },
  {
   "cell_type": "code",
   "execution_count": 6,
   "metadata": {},
   "outputs": [
    {
     "name": "stdout",
     "output_type": "stream",
     "text": [
      "a   -5.3\n",
      "b    7.2\n",
      "c    3.2\n",
      "d    4.5\n",
      "e    0.0\n",
      "dtype: float64\n"
     ]
    }
   ],
   "source": [
    "print(obj.reindex(['a', 'b', 'c', 'd', 'e'], fill_value = 0))"
   ]
  },
  {
   "cell_type": "code",
   "execution_count": 7,
   "metadata": {},
   "outputs": [
    {
     "name": "stdout",
     "output_type": "stream",
     "text": [
      "0      blue\n",
      "2    purple\n",
      "4    yellow\n",
      "dtype: object\n"
     ]
    }
   ],
   "source": [
    "obj3 = pd.Series(['blue', 'purple', 'yellow'], index = [0,2,4])\n",
    "print(obj3)"
   ]
  },
  {
   "cell_type": "code",
   "execution_count": 8,
   "metadata": {},
   "outputs": [
    {
     "name": "stdout",
     "output_type": "stream",
     "text": [
      "0      blue\n",
      "1      blue\n",
      "2    purple\n",
      "3    purple\n",
      "4    yellow\n",
      "5    yellow\n",
      "dtype: object\n"
     ]
    }
   ],
   "source": [
    "print(obj3.reindex(range(6), method='ffill'))"
   ]
  },
  {
   "cell_type": "code",
   "execution_count": 9,
   "metadata": {},
   "outputs": [
    {
     "name": "stdout",
     "output_type": "stream",
     "text": [
      "0      blue\n",
      "1    purple\n",
      "2    purple\n",
      "3    yellow\n",
      "4    yellow\n",
      "5       NaN\n",
      "dtype: object\n"
     ]
    }
   ],
   "source": [
    "print(obj3.reindex(range(6), method='bfill'))"
   ]
  },
  {
   "cell_type": "markdown",
   "metadata": {},
   "source": [
    "既然我们可以对Series进行reindex，相应地，我们也可以用同样的方法对DataFrame进行reindex。"
   ]
  },
  {
   "cell_type": "code",
   "execution_count": 15,
   "metadata": {},
   "outputs": [
    {
     "name": "stdout",
     "output_type": "stream",
     "text": [
      "   Hangzhou  Shenzhen  Nanjing\n",
      "a         0         1        2\n",
      "c         3         4        5\n",
      "d         6         7        8\n"
     ]
    }
   ],
   "source": [
    "frame = pd.DataFrame(np.arange(9).reshape(3,3), \n",
    "                    index = ['a', 'c', 'd'],\n",
    "                    columns = ['Hangzhou', 'Shenzhen', 'Nanjing'])\n",
    "print(frame)"
   ]
  },
  {
   "cell_type": "code",
   "execution_count": 16,
   "metadata": {},
   "outputs": [
    {
     "name": "stdout",
     "output_type": "stream",
     "text": [
      "   Hangzhou  Shenzhen  Nanjing\n",
      "a       0.0       1.0      2.0\n",
      "b       NaN       NaN      NaN\n",
      "c       3.0       4.0      5.0\n",
      "d       6.0       7.0      8.0\n"
     ]
    }
   ],
   "source": [
    "frame2 = frame.reindex(['a', 'b', 'c', 'd'])\n",
    "print(frame2)"
   ]
  },
  {
   "cell_type": "markdown",
   "metadata": {},
   "source": [
    "在reindex的同时，我们还可以重新指定columns"
   ]
  },
  {
   "cell_type": "code",
   "execution_count": 10,
   "metadata": {},
   "outputs": [
    {
     "name": "stdout",
     "output_type": "stream",
     "text": [
      "   Shenzhen  Hangzhou  Chongqing\n",
      "a         1         0        NaN\n",
      "c         4         3        NaN\n",
      "d         7         6        NaN\n"
     ]
    }
   ],
   "source": [
    "print(frame.reindex(columns = ['Shenzhen', 'Hangzhou', 'Chongqing']))"
   ]
  },
  {
   "cell_type": "code",
   "execution_count": 18,
   "metadata": {},
   "outputs": [
    {
     "name": "stdout",
     "output_type": "stream",
     "text": [
      "   Shenzhen  Hangzhou  Chongqing\n",
      "a         1         0        NaN\n",
      "b         1         0        NaN\n",
      "c         4         3        NaN\n",
      "d         7         6        NaN\n",
      "   Shenzhen  Hangzhou  Chongqing\n",
      "a       1.0       0.0        NaN\n",
      "b       NaN       NaN        NaN\n",
      "d       7.0       6.0        NaN\n",
      "c       4.0       3.0        NaN\n"
     ]
    }
   ],
   "source": [
    "print(frame.reindex(index = ['a', 'b', 'c', 'd'],\n",
    "                    method = 'ffill',\n",
    "                    columns = ['Shenzhen', 'Hangzhou', 'Chongqing']))\n",
    "print(frame.ix[['a', 'b', 'd', 'c'], ['Shenzhen', 'Hangzhou', 'Chongqing']])"
   ]
  },
  {
   "cell_type": "code",
   "execution_count": null,
   "metadata": {
    "collapsed": true
   },
   "outputs": [],
   "source": [
    "下面介绍如何用drop来删除Series和DataFrame中的index"
   ]
  },
  {
   "cell_type": "code",
   "execution_count": 12,
   "metadata": {},
   "outputs": [
    {
     "name": "stdout",
     "output_type": "stream",
     "text": [
      "0      blue\n",
      "2    purple\n",
      "4    yellow\n",
      "dtype: object\n",
      "0      blue\n",
      "4    yellow\n",
      "dtype: object\n"
     ]
    }
   ],
   "source": [
    "print(obj3)\n",
    "obj4 = obj3.drop(2)\n",
    "print(obj4)"
   ]
  },
  {
   "cell_type": "code",
   "execution_count": 13,
   "metadata": {},
   "outputs": [
    {
     "name": "stdout",
     "output_type": "stream",
     "text": [
      "0    blue\n",
      "dtype: object\n"
     ]
    }
   ],
   "source": [
    "print(obj3.drop([2,4]))"
   ]
  },
  {
   "cell_type": "code",
   "execution_count": 19,
   "metadata": {},
   "outputs": [
    {
     "name": "stdout",
     "output_type": "stream",
     "text": [
      "   Hangzhou  Shenzhen  Nanjing\n",
      "a         0         1        2\n",
      "c         3         4        5\n",
      "d         6         7        8\n"
     ]
    }
   ],
   "source": [
    "print(frame)"
   ]
  },
  {
   "cell_type": "code",
   "execution_count": 20,
   "metadata": {},
   "outputs": [
    {
     "name": "stdout",
     "output_type": "stream",
     "text": [
      "   Hangzhou  Shenzhen  Nanjing\n",
      "d         6         7        8\n"
     ]
    }
   ],
   "source": [
    "print(frame.drop(['a', 'c']))"
   ]
  },
  {
   "cell_type": "markdown",
   "metadata": {},
   "source": [
    "drop不仅仅可以删除行，还可以删除列"
   ]
  },
  {
   "cell_type": "code",
   "execution_count": 22,
   "metadata": {},
   "outputs": [
    {
     "name": "stdout",
     "output_type": "stream",
     "text": [
      "   Hangzhou  Nanjing\n",
      "a         0        2\n",
      "c         3        5\n",
      "d         6        8\n"
     ]
    }
   ],
   "source": [
    "print(frame.drop('Shenzhen', axis=1))"
   ]
  },
  {
   "cell_type": "code",
   "execution_count": 23,
   "metadata": {},
   "outputs": [
    {
     "name": "stdout",
     "output_type": "stream",
     "text": [
      "   Nanjing\n",
      "a        2\n",
      "c        5\n",
      "d        8\n"
     ]
    }
   ],
   "source": [
    "print(frame.drop(['Shenzhen', 'Hangzhou'], axis=1))"
   ]
  },
  {
   "cell_type": "markdown",
   "metadata": {},
   "source": [
    "#### hierarchical index"
   ]
  },
  {
   "cell_type": "code",
   "execution_count": 2,
   "metadata": {
    "collapsed": true
   },
   "outputs": [],
   "source": [
    "import numpy as np\n",
    "import pandas as pd"
   ]
  },
  {
   "cell_type": "markdown",
   "metadata": {},
   "source": [
    "Series的hierarchical indexing"
   ]
  },
  {
   "cell_type": "code",
   "execution_count": 4,
   "metadata": {},
   "outputs": [
    {
     "name": "stdout",
     "output_type": "stream",
     "text": [
      "a  1   -0.571858\n",
      "   2   -0.542655\n",
      "   3    0.030569\n",
      "b  1    0.641165\n",
      "   2    0.174197\n",
      "c  1   -0.368307\n",
      "   2    2.280507\n",
      "   3    0.683652\n",
      "d  1    0.152338\n",
      "   2    0.237398\n",
      "dtype: float64\n"
     ]
    }
   ],
   "source": [
    "data = pd.Series(np.random.randn(10), index=[['a','a','a','b','b','c','c','c','d','d'], [1,2,3,1,2,1,2,3,1,2]])\n",
    "print(data)"
   ]
  },
  {
   "cell_type": "code",
   "execution_count": 5,
   "metadata": {},
   "outputs": [
    {
     "name": "stdout",
     "output_type": "stream",
     "text": [
      "MultiIndex(levels=[['a', 'b', 'c', 'd'], [1, 2, 3]],\n",
      "           labels=[[0, 0, 0, 1, 1, 2, 2, 2, 3, 3], [0, 1, 2, 0, 1, 0, 1, 2, 0, 1]])\n"
     ]
    }
   ],
   "source": [
    "print(data.index)"
   ]
  },
  {
   "cell_type": "code",
   "execution_count": 6,
   "metadata": {},
   "outputs": [
    {
     "name": "stdout",
     "output_type": "stream",
     "text": [
      "1    0.641165\n",
      "2    0.174197\n",
      "dtype: float64\n"
     ]
    }
   ],
   "source": [
    "print(data.b)"
   ]
  },
  {
   "cell_type": "code",
   "execution_count": 7,
   "metadata": {},
   "outputs": [
    {
     "name": "stdout",
     "output_type": "stream",
     "text": [
      "b  1    0.641165\n",
      "   2    0.174197\n",
      "c  1   -0.368307\n",
      "   2    2.280507\n",
      "   3    0.683652\n",
      "dtype: float64\n"
     ]
    }
   ],
   "source": [
    "print(data['b':'c'])"
   ]
  },
  {
   "cell_type": "code",
   "execution_count": 8,
   "metadata": {},
   "outputs": [
    {
     "name": "stdout",
     "output_type": "stream",
     "text": [
      "a  1   -0.571858\n",
      "   2   -0.542655\n",
      "dtype: float64\n"
     ]
    }
   ],
   "source": [
    "print(data[:2])"
   ]
  },
  {
   "cell_type": "markdown",
   "metadata": {},
   "source": [
    "unstack和stack可以帮助我们在hierarchical indexing和DataFrame之间进行切换。"
   ]
  },
  {
   "cell_type": "code",
   "execution_count": 10,
   "metadata": {},
   "outputs": [
    {
     "name": "stdout",
     "output_type": "stream",
     "text": [
      "          1         2         3\n",
      "a -0.571858 -0.542655  0.030569\n",
      "b  0.641165  0.174197       NaN\n",
      "c -0.368307  2.280507  0.683652\n",
      "d  0.152338  0.237398       NaN\n"
     ]
    }
   ],
   "source": [
    "print(data.unstack())"
   ]
  },
  {
   "cell_type": "code",
   "execution_count": 20,
   "metadata": {},
   "outputs": [
    {
     "name": "stdout",
     "output_type": "stream",
     "text": [
      "a  1   -0.571858\n",
      "   2   -0.542655\n",
      "   3    0.030569\n",
      "b  1    0.641165\n",
      "   2    0.174197\n",
      "c  1   -0.368307\n",
      "   2    2.280507\n",
      "   3    0.683652\n",
      "d  1    0.152338\n",
      "   2    0.237398\n",
      "dtype: float64\n"
     ]
    }
   ],
   "source": [
    "print(data.unstack().stack())"
   ]
  },
  {
   "cell_type": "code",
   "execution_count": 22,
   "metadata": {},
   "outputs": [
    {
     "name": "stdout",
     "output_type": "stream",
     "text": [
      "<class 'pandas.core.frame.DataFrame'>\n"
     ]
    }
   ],
   "source": [
    "print(type(data.unstack()))"
   ]
  },
  {
   "cell_type": "markdown",
   "metadata": {},
   "source": [
    "DataFrame的hierarchical indexing"
   ]
  },
  {
   "cell_type": "code",
   "execution_count": 25,
   "metadata": {},
   "outputs": [
    {
     "name": "stdout",
     "output_type": "stream",
     "text": [
      "    Beijing      Shanghai\n",
      "       apts cars     apts\n",
      "a 1       0    1        2\n",
      "  2       3    4        5\n",
      "b 1       6    7        8\n",
      "  2       9   10       11\n"
     ]
    }
   ],
   "source": [
    "frame = pd.DataFrame(np.arange(12).reshape((4,3)),\n",
    "                    index = [['a','a','b','b'], [1,2,1,2]],\n",
    "                    columns = [['Beijing', 'Beijing', 'Shanghai'], ['apts', 'cars', 'apts']])\n",
    "print(frame)"
   ]
  },
  {
   "cell_type": "code",
   "execution_count": 28,
   "metadata": {},
   "outputs": [
    {
     "name": "stdout",
     "output_type": "stream",
     "text": [
      "city      Beijing      Shanghai\n",
      "type         apts cars     apts\n",
      "key1 key2                      \n",
      "a    1          0    1        2\n",
      "     2          3    4        5\n",
      "b    1          6    7        8\n",
      "     2          9   10       11\n"
     ]
    }
   ],
   "source": [
    "frame.index.names = ['key1', 'key2']\n",
    "frame.columns.names = ['city', 'type']\n",
    "print(frame)"
   ]
  },
  {
   "cell_type": "code",
   "execution_count": 29,
   "metadata": {},
   "outputs": [
    {
     "name": "stdout",
     "output_type": "stream",
     "text": [
      "city      type\n",
      "Beijing   apts    0\n",
      "          cars    1\n",
      "Shanghai  apts    2\n",
      "Name: (a, 1), dtype: int32\n"
     ]
    }
   ],
   "source": [
    "print(frame.ix['a', 1])"
   ]
  },
  {
   "cell_type": "code",
   "execution_count": 30,
   "metadata": {},
   "outputs": [
    {
     "name": "stdout",
     "output_type": "stream",
     "text": [
      "type\n",
      "apts    3\n",
      "cars    4\n",
      "Name: (a, 2), dtype: int32\n"
     ]
    }
   ],
   "source": [
    "print(frame.ix['a', 2]['Beijing'])"
   ]
  },
  {
   "cell_type": "code",
   "execution_count": 31,
   "metadata": {},
   "outputs": [
    {
     "name": "stdout",
     "output_type": "stream",
     "text": [
      "3\n"
     ]
    }
   ],
   "source": [
    "print(frame.ix['a', 2]['Beijing']['apts'])"
   ]
  },
  {
   "cell_type": "markdown",
   "metadata": {},
   "source": [
    "## 关于Merge, Join和Concatenate\n",
    "\n",
    "### 七月在线python数据分析班 2017升级版 julyedu.com"
   ]
  },
  {
   "cell_type": "markdown",
   "metadata": {},
   "source": [
    "http://pandas.pydata.org/pandas-docs/stable/merging.html"
   ]
  },
  {
   "cell_type": "code",
   "execution_count": 32,
   "metadata": {},
   "outputs": [
    {
     "name": "stdout",
     "output_type": "stream",
     "text": [
      "           apts    cars\n",
      "Shanghai  55000  200000\n",
      "Beijing   60000  300000\n"
     ]
    }
   ],
   "source": [
    "df1 = pd.DataFrame({'apts': [55000, 60000],\n",
    "                   'cars': [200000, 300000],},\n",
    "                  index = ['Shanghai', 'Beijing'])\n",
    "print(df1)"
   ]
  },
  {
   "cell_type": "code",
   "execution_count": 33,
   "metadata": {},
   "outputs": [
    {
     "name": "stdout",
     "output_type": "stream",
     "text": [
      "           apts    cars\n",
      "Hangzhou  25000  150000\n",
      "Najing    20000  120000\n"
     ]
    }
   ],
   "source": [
    "df2 = pd.DataFrame({'apts': [25000, 20000],\n",
    "                   'cars': [150000, 120000],},\n",
    "                  index = ['Hangzhou', 'Najing'])\n",
    "print(df2)"
   ]
  },
  {
   "cell_type": "code",
   "execution_count": 34,
   "metadata": {},
   "outputs": [
    {
     "name": "stdout",
     "output_type": "stream",
     "text": [
      "            apts    cars\n",
      "Guangzhou  30000  180000\n",
      "Chongqing  10000  100000\n"
     ]
    }
   ],
   "source": [
    "df3 = pd.DataFrame({'apts': [30000, 10000],\n",
    "                   'cars': [180000, 100000],},\n",
    "                  index = ['Guangzhou', 'Chongqing'])\n",
    "print(df3)"
   ]
  },
  {
   "cell_type": "code",
   "execution_count": 35,
   "metadata": {},
   "outputs": [
    {
     "name": "stdout",
     "output_type": "stream",
     "text": [
      "            apts    cars\n",
      "Shanghai   55000  200000\n",
      "Beijing    60000  300000\n",
      "Hangzhou   25000  150000\n",
      "Najing     20000  120000\n",
      "Guangzhou  30000  180000\n",
      "Chongqing  10000  100000\n"
     ]
    }
   ],
   "source": [
    "frames = [df1, df2, df3]\n",
    "result = pd.concat(frames)\n",
    "print(result)"
   ]
  },
  {
   "cell_type": "markdown",
   "metadata": {},
   "source": [
    "在concatenate的时候可以指定keys，这样可以给每一个部分加上一个Key。\n",
    "\n",
    "以下的例子就构造了一个hierarchical index。"
   ]
  },
  {
   "cell_type": "code",
   "execution_count": 36,
   "metadata": {},
   "outputs": [
    {
     "name": "stdout",
     "output_type": "stream",
     "text": [
      "              apts    cars\n",
      "x Shanghai   55000  200000\n",
      "  Beijing    60000  300000\n",
      "y Hangzhou   25000  150000\n",
      "  Najing     20000  120000\n",
      "z Guangzhou  30000  180000\n",
      "  Chongqing  10000  100000\n"
     ]
    }
   ],
   "source": [
    "result2 = pd.concat(frames, keys=['x', 'y', 'z'])\n",
    "print(result2)"
   ]
  },
  {
   "cell_type": "markdown",
   "metadata": {},
   "source": [
    "result2.ix['y']"
   ]
  },
  {
   "cell_type": "code",
   "execution_count": null,
   "metadata": {
    "collapsed": true
   },
   "outputs": [],
   "source": []
  },
  {
   "cell_type": "code",
   "execution_count": 37,
   "metadata": {},
   "outputs": [
    {
     "name": "stdout",
     "output_type": "stream",
     "text": [
      "           salaries\n",
      "Suzhou        10000\n",
      "Beijing       30000\n",
      "Shanghai      30000\n",
      "Guangzhou     20000\n",
      "Tianjin       15000\n"
     ]
    }
   ],
   "source": [
    "df4 = pd.DataFrame({'salaries': [10000, 30000, 30000, 20000, 15000]},\n",
    "                  index = ['Suzhou', 'Beijing', 'Shanghai', 'Guangzhou', 'Tianjin'])\n",
    "print(df4)"
   ]
  },
  {
   "cell_type": "code",
   "execution_count": 38,
   "metadata": {},
   "outputs": [
    {
     "name": "stdout",
     "output_type": "stream",
     "text": [
      "              apts      cars  salaries\n",
      "Beijing    60000.0  300000.0   30000.0\n",
      "Chongqing  10000.0  100000.0       NaN\n",
      "Guangzhou  30000.0  180000.0   20000.0\n",
      "Hangzhou   25000.0  150000.0       NaN\n",
      "Najing     20000.0  120000.0       NaN\n",
      "Shanghai   55000.0  200000.0   30000.0\n",
      "Suzhou         NaN       NaN   10000.0\n",
      "Tianjin        NaN       NaN   15000.0\n"
     ]
    }
   ],
   "source": [
    "result3 = pd.concat([result, df4], axis=1)\n",
    "print(result3)"
   ]
  },
  {
   "cell_type": "code",
   "execution_count": 19,
   "metadata": {},
   "outputs": [
    {
     "name": "stdout",
     "output_type": "stream",
     "text": [
      "Beijing    apts         60000.0\n",
      "           cars        300000.0\n",
      "           salaries     30000.0\n",
      "Chongqing  apts         10000.0\n",
      "           cars        100000.0\n",
      "Guangzhou  apts         30000.0\n",
      "           cars        180000.0\n",
      "           salaries     20000.0\n",
      "Hangzhou   apts         25000.0\n",
      "           cars        150000.0\n",
      "Najing     apts         20000.0\n",
      "           cars        120000.0\n",
      "Shanghai   apts         55000.0\n",
      "           cars        200000.0\n",
      "           salaries     30000.0\n",
      "Suzhou     salaries     10000.0\n",
      "Tianjin    salaries     15000.0\n",
      "dtype: float64\n"
     ]
    }
   ],
   "source": [
    "print(result3.stack())"
   ]
  },
  {
   "cell_type": "code",
   "execution_count": 84,
   "metadata": {},
   "outputs": [
    {
     "name": "stdout",
     "output_type": "stream",
     "text": [
      "            apts    cars  salaries\n",
      "Beijing    60000  300000     30000\n",
      "Shanghai   55000  200000     30000\n",
      "Guangzhou  30000  180000     20000\n"
     ]
    }
   ],
   "source": [
    "result3 = pd.concat([result, df4], axis=1, join='inner')\n",
    "print(result3)"
   ]
  },
  {
   "cell_type": "markdown",
   "metadata": {},
   "source": [
    "#### 用append来做concatenation"
   ]
  },
  {
   "cell_type": "code",
   "execution_count": 85,
   "metadata": {},
   "outputs": [
    {
     "name": "stdout",
     "output_type": "stream",
     "text": [
      "           apts    cars\n",
      "Shanghai  55000  200000\n",
      "Beijing   60000  300000\n",
      "Hangzhou  25000  150000\n",
      "Najing    20000  120000\n"
     ]
    }
   ],
   "source": [
    "print(df1.append(df2))"
   ]
  },
  {
   "cell_type": "code",
   "execution_count": 88,
   "metadata": {},
   "outputs": [
    {
     "name": "stdout",
     "output_type": "stream",
     "text": [
      "              apts      cars  salaries\n",
      "Shanghai   55000.0  200000.0       NaN\n",
      "Beijing    60000.0  300000.0       NaN\n",
      "Suzhou         NaN       NaN   10000.0\n",
      "Beijing        NaN       NaN   30000.0\n",
      "Shanghai       NaN       NaN   30000.0\n",
      "Guangzhou      NaN       NaN   20000.0\n",
      "Tianjin        NaN       NaN   15000.0\n"
     ]
    }
   ],
   "source": [
    "print(df1.append(df4))"
   ]
  },
  {
   "cell_type": "markdown",
   "metadata": {},
   "source": [
    "Series和DataFrame还可以被一起concatenate，这时候Series会先被转成DataFrame然后做Join，因为Series本来就是一个只有一维的DataFrame对吧。"
   ]
  },
  {
   "cell_type": "code",
   "execution_count": 89,
   "metadata": {},
   "outputs": [
    {
     "name": "stdout",
     "output_type": "stream",
     "text": [
      "Shanghai    60\n",
      "Beijing     50\n",
      "Name: meal, dtype: int64\n"
     ]
    }
   ],
   "source": [
    "s1 = pd.Series([60, 50], index=['Shanghai', 'Beijing'], name='meal')\n",
    "print(s1)"
   ]
  },
  {
   "cell_type": "code",
   "execution_count": 90,
   "metadata": {},
   "outputs": [
    {
     "name": "stdout",
     "output_type": "stream",
     "text": [
      "           apts    cars  meal\n",
      "Shanghai  55000  200000    60\n",
      "Beijing   60000  300000    50\n"
     ]
    }
   ],
   "source": [
    "print(pd.concat([df1, s1], axis=1))"
   ]
  },
  {
   "cell_type": "markdown",
   "metadata": {},
   "source": [
    "下面讲如何append一个row到DataFrame里。"
   ]
  },
  {
   "cell_type": "code",
   "execution_count": 94,
   "metadata": {},
   "outputs": [
    {
     "name": "stdout",
     "output_type": "stream",
     "text": [
      "apts    18000\n",
      "cars    12000\n",
      "Name: Xiamen, dtype: int64\n"
     ]
    }
   ],
   "source": [
    "s2 = pd.Series([18000, 12000], index=['apts', 'cars'], name='Xiamen') #注意这里的name是必须要有的，因为要用作Index。\n",
    "print(s2)"
   ]
  },
  {
   "cell_type": "code",
   "execution_count": 95,
   "metadata": {},
   "outputs": [
    {
     "name": "stdout",
     "output_type": "stream",
     "text": [
      "           apts    cars\n",
      "Shanghai  55000  200000\n",
      "Beijing   60000  300000\n",
      "Xiamen    18000   12000\n"
     ]
    }
   ],
   "source": [
    "print(df1.append(s2))"
   ]
  },
  {
   "cell_type": "markdown",
   "metadata": {},
   "source": [
    "### Merge(Join)\n",
    "### 七月在线python数据分析班 2017升级版 julyedu.com"
   ]
  },
  {
   "cell_type": "code",
   "execution_count": 39,
   "metadata": {},
   "outputs": [
    {
     "name": "stdout",
     "output_type": "stream",
     "text": [
      "           apts    cars\n",
      "Shanghai  55000  200000\n",
      "Beijing   60000  300000\n",
      "\n",
      "           salaries\n",
      "Suzhou        10000\n",
      "Beijing       30000\n",
      "Shanghai      30000\n",
      "Guangzhou     20000\n",
      "Tianjin       15000\n"
     ]
    }
   ],
   "source": [
    "print(df1)\n",
    "print()\n",
    "print(df4)"
   ]
  },
  {
   "cell_type": "code",
   "execution_count": 50,
   "metadata": {},
   "outputs": [
    {
     "name": "stdout",
     "output_type": "stream",
     "text": [
      "    apts    cars    cities\n",
      "0  55000  200000  Shanghai\n",
      "1  60000  300000   Beijing\n",
      "2  58000  250000  Shenzhen\n"
     ]
    }
   ],
   "source": [
    "df1 = pd.DataFrame({'apts': [55000, 60000, 58000],\n",
    "                   'cars': [200000, 300000,250000],\n",
    "                  'cities': ['Shanghai', 'Beijing','Shenzhen']})\n",
    "print(df1)"
   ]
  },
  {
   "cell_type": "code",
   "execution_count": 52,
   "metadata": {},
   "outputs": [
    {
     "name": "stdout",
     "output_type": "stream",
     "text": [
      "      cities  salaries\n",
      "0     Suzhou     10000\n",
      "1    Beijing     30000\n",
      "2   Shanghai     30000\n",
      "3  Guangzhou     20000\n",
      "4    Tianjin     15000\n"
     ]
    }
   ],
   "source": [
    "df4 = pd.DataFrame({'salaries': [10000, 30000, 30000, 20000, 15000],\n",
    "                  'cities': ['Suzhou', 'Beijing', 'Shanghai', 'Guangzhou', 'Tianjin']})\n",
    "print(df4)"
   ]
  },
  {
   "cell_type": "code",
   "execution_count": 53,
   "metadata": {},
   "outputs": [
    {
     "name": "stdout",
     "output_type": "stream",
     "text": [
      "    apts    cars    cities  salaries\n",
      "0  55000  200000  Shanghai     30000\n",
      "1  60000  300000   Beijing     30000\n"
     ]
    }
   ],
   "source": [
    "result = pd.merge(df1, df4, on='cities')\n",
    "print(result)"
   ]
  },
  {
   "cell_type": "code",
   "execution_count": 54,
   "metadata": {},
   "outputs": [
    {
     "name": "stdout",
     "output_type": "stream",
     "text": [
      "      apts      cars     cities  salaries\n",
      "0  55000.0  200000.0   Shanghai   30000.0\n",
      "1  60000.0  300000.0    Beijing   30000.0\n",
      "2  58000.0  250000.0   Shenzhen       NaN\n",
      "3      NaN       NaN     Suzhou   10000.0\n",
      "4      NaN       NaN  Guangzhou   20000.0\n",
      "5      NaN       NaN    Tianjin   15000.0\n"
     ]
    }
   ],
   "source": [
    "result = pd.merge(df1, df4, on='cities', how='outer')\n",
    "print(result)"
   ]
  },
  {
   "cell_type": "code",
   "execution_count": 55,
   "metadata": {},
   "outputs": [
    {
     "name": "stdout",
     "output_type": "stream",
     "text": [
      "      apts      cars     cities  salaries\n",
      "0  55000.0  200000.0   Shanghai     30000\n",
      "1  60000.0  300000.0    Beijing     30000\n",
      "2      NaN       NaN     Suzhou     10000\n",
      "3      NaN       NaN  Guangzhou     20000\n",
      "4      NaN       NaN    Tianjin     15000\n"
     ]
    }
   ],
   "source": [
    "result = pd.merge(df1, df4, on='cities', how='right')\n",
    "print(result)"
   ]
  },
  {
   "cell_type": "code",
   "execution_count": 56,
   "metadata": {},
   "outputs": [
    {
     "name": "stdout",
     "output_type": "stream",
     "text": [
      "    apts    cars    cities  salaries\n",
      "0  55000  200000  Shanghai   30000.0\n",
      "1  60000  300000   Beijing   30000.0\n",
      "2  58000  250000  Shenzhen       NaN\n"
     ]
    }
   ],
   "source": [
    "result = pd.merge(df1, df4, on='cities', how='left')\n",
    "print(result)"
   ]
  },
  {
   "cell_type": "markdown",
   "metadata": {},
   "source": [
    "#### join on index"
   ]
  },
  {
   "cell_type": "code",
   "execution_count": 57,
   "metadata": {},
   "outputs": [
    {
     "name": "stdout",
     "output_type": "stream",
     "text": [
      "           apts    cars\n",
      "Shanghai  55000  200000\n",
      "Beijing   60000  300000\n",
      "Shenzhen  58000  250000\n"
     ]
    }
   ],
   "source": [
    "df1 = pd.DataFrame({'apts': [55000, 60000, 58000],\n",
    "                   'cars': [200000, 300000,250000]},\n",
    "                  index=['Shanghai', 'Beijing','Shenzhen'])\n",
    "print(df1)"
   ]
  },
  {
   "cell_type": "code",
   "execution_count": 59,
   "metadata": {},
   "outputs": [
    {
     "name": "stdout",
     "output_type": "stream",
     "text": [
      "           salaries\n",
      "Suzhou        10000\n",
      "Beijing       30000\n",
      "Shanghai      30000\n",
      "Guangzhou     20000\n",
      "Tianjin       15000\n"
     ]
    }
   ],
   "source": [
    "df4 = pd.DataFrame({'salaries': [10000, 30000, 30000, 20000, 15000]},\n",
    "                  index=['Suzhou', 'Beijing', 'Shanghai', 'Guangzhou', 'Tianjin'])\n",
    "print(df4)"
   ]
  },
  {
   "cell_type": "code",
   "execution_count": 60,
   "metadata": {},
   "outputs": [
    {
     "name": "stdout",
     "output_type": "stream",
     "text": [
      "           apts    cars  salaries\n",
      "Shanghai  55000  200000   30000.0\n",
      "Beijing   60000  300000   30000.0\n",
      "Shenzhen  58000  250000       NaN\n"
     ]
    }
   ],
   "source": [
    "print(df1.join(df4))"
   ]
  },
  {
   "cell_type": "code",
   "execution_count": 62,
   "metadata": {},
   "outputs": [
    {
     "name": "stdout",
     "output_type": "stream",
     "text": [
      "              apts      cars  salaries\n",
      "Beijing    60000.0  300000.0   30000.0\n",
      "Guangzhou      NaN       NaN   20000.0\n",
      "Shanghai   55000.0  200000.0   30000.0\n",
      "Shenzhen   58000.0  250000.0       NaN\n",
      "Suzhou         NaN       NaN   10000.0\n",
      "Tianjin        NaN       NaN   15000.0\n"
     ]
    }
   ],
   "source": [
    "print(df1.join(df4, how='outer'))"
   ]
  },
  {
   "cell_type": "code",
   "execution_count": 63,
   "metadata": {},
   "outputs": [
    {
     "name": "stdout",
     "output_type": "stream",
     "text": [
      "              apts      cars  salaries\n",
      "Beijing    60000.0  300000.0   30000.0\n",
      "Guangzhou      NaN       NaN   20000.0\n",
      "Shanghai   55000.0  200000.0   30000.0\n",
      "Shenzhen   58000.0  250000.0       NaN\n",
      "Suzhou         NaN       NaN   10000.0\n",
      "Tianjin        NaN       NaN   15000.0\n"
     ]
    }
   ],
   "source": [
    "print(pd.merge(df1, df4, left_index=True, right_index=True, how='outer'))"
   ]
  },
  {
   "cell_type": "markdown",
   "metadata": {},
   "source": [
    "## Group By\n",
    "### 七月在线python数据分析班 2017升级版 julyedu.com"
   ]
  },
  {
   "cell_type": "markdown",
   "metadata": {},
   "source": [
    "举个栗子，假设我们现在有一张公司每个员工的收入流水。"
   ]
  },
  {
   "cell_type": "code",
   "execution_count": 3,
   "metadata": {},
   "outputs": [
    {
     "name": "stdout",
     "output_type": "stream",
     "text": [
      "   Bonus  Name  Salary  Year\n",
      "0   3000  July   10000  2016\n",
      "1   1000   Chu    2000  2016\n",
      "2   1000   Chu    4000  2016\n",
      "3   1200   Lin    5000  2016\n",
      "4   4000  July   18000  2017\n",
      "5   2300  July   25000  2017\n",
      "6    500   Chu    3000  2017\n",
      "7   1000  July    4000  2017\n"
     ]
    }
   ],
   "source": [
    "import pandas as pd\n",
    "salaries = pd.DataFrame({\n",
    "    'Name': ['July', 'Chu', 'Chu', 'Lin', 'July', 'July', 'Chu', 'July'],\n",
    "    'Year': [2016,2016,2016,2016,2017,2017,2017,2017],\n",
    "    'Salary': [10000,2000,4000,5000,18000,25000,3000,4000],\n",
    "    'Bonus': [3000,1000,1000,1200,4000,2300,500,1000]\n",
    "})\n",
    "print(salaries)"
   ]
  },
  {
   "cell_type": "markdown",
   "metadata": {},
   "source": [
    "接下来我给大家演示一下什么叫做Group By"
   ]
  },
  {
   "cell_type": "code",
   "execution_count": 9,
   "metadata": {
    "collapsed": true
   },
   "outputs": [],
   "source": [
    "group_by_name = salaries.groupby('Name')"
   ]
  },
  {
   "cell_type": "code",
   "execution_count": 11,
   "metadata": {},
   "outputs": [
    {
     "data": {
      "text/html": [
       "<div>\n",
       "<table border=\"1\" class=\"dataframe\">\n",
       "  <thead>\n",
       "    <tr style=\"text-align: right;\">\n",
       "      <th></th>\n",
       "      <th>Bonus</th>\n",
       "      <th>Salary</th>\n",
       "      <th>Year</th>\n",
       "    </tr>\n",
       "    <tr>\n",
       "      <th>Name</th>\n",
       "      <th></th>\n",
       "      <th></th>\n",
       "      <th></th>\n",
       "    </tr>\n",
       "  </thead>\n",
       "  <tbody>\n",
       "    <tr>\n",
       "      <th>Chu</th>\n",
       "      <td>2500</td>\n",
       "      <td>9000</td>\n",
       "      <td>6049</td>\n",
       "    </tr>\n",
       "    <tr>\n",
       "      <th>July</th>\n",
       "      <td>10300</td>\n",
       "      <td>57000</td>\n",
       "      <td>8067</td>\n",
       "    </tr>\n",
       "    <tr>\n",
       "      <th>Lin</th>\n",
       "      <td>1200</td>\n",
       "      <td>5000</td>\n",
       "      <td>2016</td>\n",
       "    </tr>\n",
       "  </tbody>\n",
       "</table>\n",
       "</div>"
      ],
      "text/plain": [
       "      Bonus  Salary  Year\n",
       "Name                     \n",
       "Chu    2500    9000  6049\n",
       "July  10300   57000  8067\n",
       "Lin    1200    5000  2016"
      ]
     },
     "execution_count": 11,
     "metadata": {},
     "output_type": "execute_result"
    }
   ],
   "source": [
    "group_by_name.sum()"
   ]
  },
  {
   "cell_type": "code",
   "execution_count": 12,
   "metadata": {},
   "outputs": [
    {
     "data": {
      "text/html": [
       "<div>\n",
       "<table border=\"1\" class=\"dataframe\">\n",
       "  <thead>\n",
       "    <tr style=\"text-align: right;\">\n",
       "      <th></th>\n",
       "      <th></th>\n",
       "      <th>Bonus</th>\n",
       "      <th>Salary</th>\n",
       "    </tr>\n",
       "    <tr>\n",
       "      <th>Name</th>\n",
       "      <th>Year</th>\n",
       "      <th></th>\n",
       "      <th></th>\n",
       "    </tr>\n",
       "  </thead>\n",
       "  <tbody>\n",
       "    <tr>\n",
       "      <th rowspan=\"2\" valign=\"top\">Chu</th>\n",
       "      <th>2016</th>\n",
       "      <td>2000</td>\n",
       "      <td>6000</td>\n",
       "    </tr>\n",
       "    <tr>\n",
       "      <th>2017</th>\n",
       "      <td>500</td>\n",
       "      <td>3000</td>\n",
       "    </tr>\n",
       "    <tr>\n",
       "      <th rowspan=\"2\" valign=\"top\">July</th>\n",
       "      <th>2016</th>\n",
       "      <td>3000</td>\n",
       "      <td>10000</td>\n",
       "    </tr>\n",
       "    <tr>\n",
       "      <th>2017</th>\n",
       "      <td>7300</td>\n",
       "      <td>47000</td>\n",
       "    </tr>\n",
       "    <tr>\n",
       "      <th>Lin</th>\n",
       "      <th>2016</th>\n",
       "      <td>1200</td>\n",
       "      <td>5000</td>\n",
       "    </tr>\n",
       "  </tbody>\n",
       "</table>\n",
       "</div>"
      ],
      "text/plain": [
       "           Bonus  Salary\n",
       "Name Year               \n",
       "Chu  2016   2000    6000\n",
       "     2017    500    3000\n",
       "July 2016   3000   10000\n",
       "     2017   7300   47000\n",
       "Lin  2016   1200    5000"
      ]
     },
     "execution_count": 12,
     "metadata": {},
     "output_type": "execute_result"
    }
   ],
   "source": [
    "group_by_name_year = salaries.groupby(['Name', 'Year'])\n",
    "group_by_name_year.sum()"
   ]
  },
  {
   "cell_type": "code",
   "execution_count": 13,
   "metadata": {},
   "outputs": [
    {
     "data": {
      "text/plain": [
       "Name  Year\n",
       "Chu   2016    2\n",
       "      2017    1\n",
       "July  2016    1\n",
       "      2017    3\n",
       "Lin   2016    1\n",
       "dtype: int64"
      ]
     },
     "execution_count": 13,
     "metadata": {},
     "output_type": "execute_result"
    }
   ],
   "source": [
    "group_by_name_year.size()"
   ]
  },
  {
   "cell_type": "code",
   "execution_count": 15,
   "metadata": {
    "collapsed": true
   },
   "outputs": [],
   "source": [
    "# group_by_name_year.describe()"
   ]
  },
  {
   "cell_type": "markdown",
   "metadata": {},
   "source": [
    "## READ FROM CSV\n",
    "### 七月在线python数据分析班 2017升级版 julyedu.com"
   ]
  },
  {
   "cell_type": "code",
   "execution_count": 6,
   "metadata": {
    "collapsed": true
   },
   "outputs": [],
   "source": [
    "import pandas as pd\n",
    "pd.set_option('display.max_columns', 60)"
   ]
  },
  {
   "cell_type": "markdown",
   "metadata": {},
   "source": [
    "我们先从CSV文件中读取一些数据。\n",
    "\n",
    "bike.csv记录了Montreal自行车路线的数据，具体有7条路线，数据记录了每条自行车路线每天分别有多少人。"
   ]
  },
  {
   "cell_type": "code",
   "execution_count": 13,
   "metadata": {
    "scrolled": false
   },
   "outputs": [
    {
     "data": {
      "text/html": [
       "<div>\n",
       "<table border=\"1\" class=\"dataframe\">\n",
       "  <thead>\n",
       "    <tr style=\"text-align: right;\">\n",
       "      <th></th>\n",
       "      <th>Date;Berri 1;Brébeuf (données non disponibles);Côte-Sainte-Catherine;Maisonneuve 1;Maisonneuve 2;du Parc;Pierre-Dupuy;Rachel1;St-Urbain (données non disponibles)</th>\n",
       "    </tr>\n",
       "  </thead>\n",
       "  <tbody>\n",
       "    <tr>\n",
       "      <th>0</th>\n",
       "      <td>01/01/2012;35;;0;38;51;26;10;16;</td>\n",
       "    </tr>\n",
       "    <tr>\n",
       "      <th>1</th>\n",
       "      <td>02/01/2012;83;;1;68;153;53;6;43;</td>\n",
       "    </tr>\n",
       "    <tr>\n",
       "      <th>2</th>\n",
       "      <td>03/01/2012;135;;2;104;248;89;3;58;</td>\n",
       "    </tr>\n",
       "    <tr>\n",
       "      <th>3</th>\n",
       "      <td>04/01/2012;144;;1;116;318;111;8;61;</td>\n",
       "    </tr>\n",
       "    <tr>\n",
       "      <th>4</th>\n",
       "      <td>05/01/2012;197;;2;124;330;97;13;95;</td>\n",
       "    </tr>\n",
       "    <tr>\n",
       "      <th>5</th>\n",
       "      <td>06/01/2012;146;;0;98;244;86;4;75;</td>\n",
       "    </tr>\n",
       "    <tr>\n",
       "      <th>6</th>\n",
       "      <td>07/01/2012;98;;2;80;108;53;6;54;</td>\n",
       "    </tr>\n",
       "    <tr>\n",
       "      <th>7</th>\n",
       "      <td>08/01/2012;95;;1;62;98;64;11;63;</td>\n",
       "    </tr>\n",
       "    <tr>\n",
       "      <th>8</th>\n",
       "      <td>09/01/2012;244;;2;165;432;198;12;173;</td>\n",
       "    </tr>\n",
       "    <tr>\n",
       "      <th>9</th>\n",
       "      <td>10/01/2012;397;;3;238;563;275;18;241;</td>\n",
       "    </tr>\n",
       "    <tr>\n",
       "      <th>10</th>\n",
       "      <td>11/01/2012;273;;0;182;443;258;12;194;</td>\n",
       "    </tr>\n",
       "    <tr>\n",
       "      <th>11</th>\n",
       "      <td>12/01/2012;157;;1;134;261;137;9;63;</td>\n",
       "    </tr>\n",
       "    <tr>\n",
       "      <th>12</th>\n",
       "      <td>13/01/2012;75;;0;41;105;64;2;0;</td>\n",
       "    </tr>\n",
       "    <tr>\n",
       "      <th>13</th>\n",
       "      <td>14/01/2012;32;;0;54;56;19;0;1;</td>\n",
       "    </tr>\n",
       "    <tr>\n",
       "      <th>14</th>\n",
       "      <td>15/01/2012;54;;0;33;60;18;0;0;</td>\n",
       "    </tr>\n",
       "    <tr>\n",
       "      <th>15</th>\n",
       "      <td>16/01/2012;168;;2;136;312;137;1;0</td>\n",
       "    </tr>\n",
       "    <tr>\n",
       "      <th>16</th>\n",
       "      <td>17/01/2012;155;;0;86;256;74;0;0</td>\n",
       "    </tr>\n",
       "    <tr>\n",
       "      <th>17</th>\n",
       "      <td>18/01/2012;139;;0;66;188;68;3;0</td>\n",
       "    </tr>\n",
       "    <tr>\n",
       "      <th>18</th>\n",
       "      <td>19/01/2012;191;;1;104;248;79;3;0</td>\n",
       "    </tr>\n",
       "    <tr>\n",
       "      <th>19</th>\n",
       "      <td>20/01/2012;161;;4;96;217;67;1;1</td>\n",
       "    </tr>\n",
       "    <tr>\n",
       "      <th>20</th>\n",
       "      <td>21/01/2012;53;;0;47;70;32;1;0</td>\n",
       "    </tr>\n",
       "    <tr>\n",
       "      <th>21</th>\n",
       "      <td>22/01/2012;71;;0;41;73;35;5;0</td>\n",
       "    </tr>\n",
       "    <tr>\n",
       "      <th>22</th>\n",
       "      <td>23/01/2012;210;;6;114;357;91;6;0</td>\n",
       "    </tr>\n",
       "    <tr>\n",
       "      <th>23</th>\n",
       "      <td>24/01/2012;299;;1;189;444;174;4;0</td>\n",
       "    </tr>\n",
       "    <tr>\n",
       "      <th>24</th>\n",
       "      <td>25/01/2012;334;;1;217;453;180;4;0</td>\n",
       "    </tr>\n",
       "    <tr>\n",
       "      <th>25</th>\n",
       "      <td>26/01/2012;306;;0;215;495;191;0;1</td>\n",
       "    </tr>\n",
       "    <tr>\n",
       "      <th>26</th>\n",
       "      <td>27/01/2012;91;;5;79;204;65;0;0</td>\n",
       "    </tr>\n",
       "    <tr>\n",
       "      <th>27</th>\n",
       "      <td>28/01/2012;80;;1;61;123;33;9;1</td>\n",
       "    </tr>\n",
       "    <tr>\n",
       "      <th>28</th>\n",
       "      <td>29/01/2012;87;;1;65;132;40;7;0</td>\n",
       "    </tr>\n",
       "    <tr>\n",
       "      <th>29</th>\n",
       "      <td>30/01/2012;219;;0;146;371;152;2;0</td>\n",
       "    </tr>\n",
       "    <tr>\n",
       "      <th>...</th>\n",
       "      <td>...</td>\n",
       "    </tr>\n",
       "    <tr>\n",
       "      <th>280</th>\n",
       "      <td>07/10/2012;1580;;660;922;1629;860;695;2052</td>\n",
       "    </tr>\n",
       "    <tr>\n",
       "      <th>281</th>\n",
       "      <td>08/10/2012;1854;;880;987;1818;1040;1115;2502</td>\n",
       "    </tr>\n",
       "    <tr>\n",
       "      <th>282</th>\n",
       "      <td>09/10/2012;4787;;2210;3026;5138;3418;927;4078</td>\n",
       "    </tr>\n",
       "    <tr>\n",
       "      <th>283</th>\n",
       "      <td>10/10/2012;3115;;1537;2081;3681;2608;560;2703</td>\n",
       "    </tr>\n",
       "    <tr>\n",
       "      <th>284</th>\n",
       "      <td>11/10/2012;3746;;1857;2569;4694;3034;558;3457</td>\n",
       "    </tr>\n",
       "    <tr>\n",
       "      <th>285</th>\n",
       "      <td>12/10/2012;3169;;1460;2261;4045;2564;448;3224</td>\n",
       "    </tr>\n",
       "    <tr>\n",
       "      <th>286</th>\n",
       "      <td>13/10/2012;1783;;802;1205;2113;1183;681;2309</td>\n",
       "    </tr>\n",
       "    <tr>\n",
       "      <th>287</th>\n",
       "      <td>14/10/2012;587;;287;443;852;503;65;952</td>\n",
       "    </tr>\n",
       "    <tr>\n",
       "      <th>288</th>\n",
       "      <td>15/10/2012;3292;;1678;2165;4197;2754;560;3183</td>\n",
       "    </tr>\n",
       "    <tr>\n",
       "      <th>289</th>\n",
       "      <td>16/10/2012;3739;;1858;2684;4681;2997;554;3593</td>\n",
       "    </tr>\n",
       "    <tr>\n",
       "      <th>290</th>\n",
       "      <td>17/10/2012;4098;;1964;2645;4836;3063;728;3834</td>\n",
       "    </tr>\n",
       "    <tr>\n",
       "      <th>291</th>\n",
       "      <td>18/10/2012;4671;;2292;3129;5542;3477;1108;4245</td>\n",
       "    </tr>\n",
       "    <tr>\n",
       "      <th>292</th>\n",
       "      <td>19/10/2012;1313;;597;885;1668;1209;111;1486</td>\n",
       "    </tr>\n",
       "    <tr>\n",
       "      <th>293</th>\n",
       "      <td>20/10/2012;2011;;748;1323;2266;1213;797;2243</td>\n",
       "    </tr>\n",
       "    <tr>\n",
       "      <th>294</th>\n",
       "      <td>21/10/2012;1277;;609;869;1777;898;242;1648</td>\n",
       "    </tr>\n",
       "    <tr>\n",
       "      <th>295</th>\n",
       "      <td>22/10/2012;3650;;1819;2495;4800;3023;757;3721</td>\n",
       "    </tr>\n",
       "    <tr>\n",
       "      <th>296</th>\n",
       "      <td>23/10/2012;4177;;1997;2795;5216;3233;795;3554</td>\n",
       "    </tr>\n",
       "    <tr>\n",
       "      <th>297</th>\n",
       "      <td>24/10/2012;3744;;1868;2625;4900;3035;649;3622</td>\n",
       "    </tr>\n",
       "    <tr>\n",
       "      <th>298</th>\n",
       "      <td>25/10/2012;3735;;1815;2528;5010;3017;631;3767</td>\n",
       "    </tr>\n",
       "    <tr>\n",
       "      <th>299</th>\n",
       "      <td>26/10/2012;4290;;1987;2754;5246;3000;1456;4578</td>\n",
       "    </tr>\n",
       "    <tr>\n",
       "      <th>300</th>\n",
       "      <td>27/10/2012;1857;;792;1244;2461;1193;618;2471</td>\n",
       "    </tr>\n",
       "    <tr>\n",
       "      <th>301</th>\n",
       "      <td>28/10/2012;1310;;697;910;1776;955;387;1876</td>\n",
       "    </tr>\n",
       "    <tr>\n",
       "      <th>302</th>\n",
       "      <td>29/10/2012;2919;;1458;2071;3768;2440;411;2795</td>\n",
       "    </tr>\n",
       "    <tr>\n",
       "      <th>303</th>\n",
       "      <td>30/10/2012;2887;;1251;2007;3516;2255;338;2790</td>\n",
       "    </tr>\n",
       "    <tr>\n",
       "      <th>304</th>\n",
       "      <td>31/10/2012;2634;;1294;1835;3453;2220;245;2570</td>\n",
       "    </tr>\n",
       "    <tr>\n",
       "      <th>305</th>\n",
       "      <td>01/11/2012;2405;;1208;1701;3082;2076;165;2461</td>\n",
       "    </tr>\n",
       "    <tr>\n",
       "      <th>306</th>\n",
       "      <td>02/11/2012;1582;;737;1109;2277;1392;97;1888</td>\n",
       "    </tr>\n",
       "    <tr>\n",
       "      <th>307</th>\n",
       "      <td>03/11/2012;844;;380;612;1137;713;105;1302</td>\n",
       "    </tr>\n",
       "    <tr>\n",
       "      <th>308</th>\n",
       "      <td>04/11/2012;966;;446;710;1277;692;197;1374</td>\n",
       "    </tr>\n",
       "    <tr>\n",
       "      <th>309</th>\n",
       "      <td>05/11/2012;2247;;1170;1705;3221;2143;179;2430</td>\n",
       "    </tr>\n",
       "  </tbody>\n",
       "</table>\n",
       "<p>310 rows × 1 columns</p>\n",
       "</div>"
      ],
      "text/plain": [
       "    Date;Berri 1;Brébeuf (données non disponibles);Côte-Sainte-Catherine;Maisonneuve 1;Maisonneuve 2;du Parc;Pierre-Dupuy;Rachel1;St-Urbain (données non disponibles)\n",
       "0                     01/01/2012;35;;0;38;51;26;10;16;                                                                                                               \n",
       "1                     02/01/2012;83;;1;68;153;53;6;43;                                                                                                               \n",
       "2                   03/01/2012;135;;2;104;248;89;3;58;                                                                                                               \n",
       "3                  04/01/2012;144;;1;116;318;111;8;61;                                                                                                               \n",
       "4                  05/01/2012;197;;2;124;330;97;13;95;                                                                                                               \n",
       "5                    06/01/2012;146;;0;98;244;86;4;75;                                                                                                               \n",
       "6                     07/01/2012;98;;2;80;108;53;6;54;                                                                                                               \n",
       "7                     08/01/2012;95;;1;62;98;64;11;63;                                                                                                               \n",
       "8                09/01/2012;244;;2;165;432;198;12;173;                                                                                                               \n",
       "9                10/01/2012;397;;3;238;563;275;18;241;                                                                                                               \n",
       "10               11/01/2012;273;;0;182;443;258;12;194;                                                                                                               \n",
       "11                 12/01/2012;157;;1;134;261;137;9;63;                                                                                                               \n",
       "12                     13/01/2012;75;;0;41;105;64;2;0;                                                                                                               \n",
       "13                      14/01/2012;32;;0;54;56;19;0;1;                                                                                                               \n",
       "14                      15/01/2012;54;;0;33;60;18;0;0;                                                                                                               \n",
       "15                   16/01/2012;168;;2;136;312;137;1;0                                                                                                               \n",
       "16                     17/01/2012;155;;0;86;256;74;0;0                                                                                                               \n",
       "17                     18/01/2012;139;;0;66;188;68;3;0                                                                                                               \n",
       "18                    19/01/2012;191;;1;104;248;79;3;0                                                                                                               \n",
       "19                     20/01/2012;161;;4;96;217;67;1;1                                                                                                               \n",
       "20                       21/01/2012;53;;0;47;70;32;1;0                                                                                                               \n",
       "21                       22/01/2012;71;;0;41;73;35;5;0                                                                                                               \n",
       "22                    23/01/2012;210;;6;114;357;91;6;0                                                                                                               \n",
       "23                   24/01/2012;299;;1;189;444;174;4;0                                                                                                               \n",
       "24                   25/01/2012;334;;1;217;453;180;4;0                                                                                                               \n",
       "25                   26/01/2012;306;;0;215;495;191;0;1                                                                                                               \n",
       "26                      27/01/2012;91;;5;79;204;65;0;0                                                                                                               \n",
       "27                      28/01/2012;80;;1;61;123;33;9;1                                                                                                               \n",
       "28                      29/01/2012;87;;1;65;132;40;7;0                                                                                                               \n",
       "29                   30/01/2012;219;;0;146;371;152;2;0                                                                                                               \n",
       "..                                                 ...                                                                                                               \n",
       "280         07/10/2012;1580;;660;922;1629;860;695;2052                                                                                                               \n",
       "281       08/10/2012;1854;;880;987;1818;1040;1115;2502                                                                                                               \n",
       "282      09/10/2012;4787;;2210;3026;5138;3418;927;4078                                                                                                               \n",
       "283      10/10/2012;3115;;1537;2081;3681;2608;560;2703                                                                                                               \n",
       "284      11/10/2012;3746;;1857;2569;4694;3034;558;3457                                                                                                               \n",
       "285      12/10/2012;3169;;1460;2261;4045;2564;448;3224                                                                                                               \n",
       "286       13/10/2012;1783;;802;1205;2113;1183;681;2309                                                                                                               \n",
       "287             14/10/2012;587;;287;443;852;503;65;952                                                                                                               \n",
       "288      15/10/2012;3292;;1678;2165;4197;2754;560;3183                                                                                                               \n",
       "289      16/10/2012;3739;;1858;2684;4681;2997;554;3593                                                                                                               \n",
       "290      17/10/2012;4098;;1964;2645;4836;3063;728;3834                                                                                                               \n",
       "291     18/10/2012;4671;;2292;3129;5542;3477;1108;4245                                                                                                               \n",
       "292        19/10/2012;1313;;597;885;1668;1209;111;1486                                                                                                               \n",
       "293       20/10/2012;2011;;748;1323;2266;1213;797;2243                                                                                                               \n",
       "294         21/10/2012;1277;;609;869;1777;898;242;1648                                                                                                               \n",
       "295      22/10/2012;3650;;1819;2495;4800;3023;757;3721                                                                                                               \n",
       "296      23/10/2012;4177;;1997;2795;5216;3233;795;3554                                                                                                               \n",
       "297      24/10/2012;3744;;1868;2625;4900;3035;649;3622                                                                                                               \n",
       "298      25/10/2012;3735;;1815;2528;5010;3017;631;3767                                                                                                               \n",
       "299     26/10/2012;4290;;1987;2754;5246;3000;1456;4578                                                                                                               \n",
       "300       27/10/2012;1857;;792;1244;2461;1193;618;2471                                                                                                               \n",
       "301         28/10/2012;1310;;697;910;1776;955;387;1876                                                                                                               \n",
       "302      29/10/2012;2919;;1458;2071;3768;2440;411;2795                                                                                                               \n",
       "303      30/10/2012;2887;;1251;2007;3516;2255;338;2790                                                                                                               \n",
       "304      31/10/2012;2634;;1294;1835;3453;2220;245;2570                                                                                                               \n",
       "305      01/11/2012;2405;;1208;1701;3082;2076;165;2461                                                                                                               \n",
       "306        02/11/2012;1582;;737;1109;2277;1392;97;1888                                                                                                               \n",
       "307          03/11/2012;844;;380;612;1137;713;105;1302                                                                                                               \n",
       "308          04/11/2012;966;;446;710;1277;692;197;1374                                                                                                               \n",
       "309      05/11/2012;2247;;1170;1705;3221;2143;179;2430                                                                                                               \n",
       "\n",
       "[310 rows x 1 columns]"
      ]
     },
     "execution_count": 13,
     "metadata": {},
     "output_type": "execute_result"
    }
   ],
   "source": [
    "bikes = pd.read_csv('bikes.csv', encoding='latin1')\n",
    "bikes"
   ]
  },
  {
   "cell_type": "code",
   "execution_count": 18,
   "metadata": {},
   "outputs": [
    {
     "data": {
      "text/html": [
       "<div>\n",
       "<table border=\"1\" class=\"dataframe\">\n",
       "  <thead>\n",
       "    <tr style=\"text-align: right;\">\n",
       "      <th></th>\n",
       "      <th>Berri 1</th>\n",
       "      <th>Brébeuf (données non disponibles)</th>\n",
       "      <th>Côte-Sainte-Catherine</th>\n",
       "      <th>Maisonneuve 1</th>\n",
       "      <th>Maisonneuve 2</th>\n",
       "      <th>du Parc</th>\n",
       "      <th>Pierre-Dupuy</th>\n",
       "      <th>Rachel1</th>\n",
       "      <th>St-Urbain (données non disponibles)</th>\n",
       "    </tr>\n",
       "    <tr>\n",
       "      <th>Date</th>\n",
       "      <th></th>\n",
       "      <th></th>\n",
       "      <th></th>\n",
       "      <th></th>\n",
       "      <th></th>\n",
       "      <th></th>\n",
       "      <th></th>\n",
       "      <th></th>\n",
       "      <th></th>\n",
       "    </tr>\n",
       "  </thead>\n",
       "  <tbody>\n",
       "    <tr>\n",
       "      <th>2012-01-01</th>\n",
       "      <td>35</td>\n",
       "      <td>NaN</td>\n",
       "      <td>0</td>\n",
       "      <td>38</td>\n",
       "      <td>51</td>\n",
       "      <td>26</td>\n",
       "      <td>10</td>\n",
       "      <td>16</td>\n",
       "      <td>NaN</td>\n",
       "    </tr>\n",
       "    <tr>\n",
       "      <th>2012-02-01</th>\n",
       "      <td>83</td>\n",
       "      <td>NaN</td>\n",
       "      <td>1</td>\n",
       "      <td>68</td>\n",
       "      <td>153</td>\n",
       "      <td>53</td>\n",
       "      <td>6</td>\n",
       "      <td>43</td>\n",
       "      <td>NaN</td>\n",
       "    </tr>\n",
       "    <tr>\n",
       "      <th>2012-03-01</th>\n",
       "      <td>135</td>\n",
       "      <td>NaN</td>\n",
       "      <td>2</td>\n",
       "      <td>104</td>\n",
       "      <td>248</td>\n",
       "      <td>89</td>\n",
       "      <td>3</td>\n",
       "      <td>58</td>\n",
       "      <td>NaN</td>\n",
       "    </tr>\n",
       "    <tr>\n",
       "      <th>2012-04-01</th>\n",
       "      <td>144</td>\n",
       "      <td>NaN</td>\n",
       "      <td>1</td>\n",
       "      <td>116</td>\n",
       "      <td>318</td>\n",
       "      <td>111</td>\n",
       "      <td>8</td>\n",
       "      <td>61</td>\n",
       "      <td>NaN</td>\n",
       "    </tr>\n",
       "    <tr>\n",
       "      <th>2012-05-01</th>\n",
       "      <td>197</td>\n",
       "      <td>NaN</td>\n",
       "      <td>2</td>\n",
       "      <td>124</td>\n",
       "      <td>330</td>\n",
       "      <td>97</td>\n",
       "      <td>13</td>\n",
       "      <td>95</td>\n",
       "      <td>NaN</td>\n",
       "    </tr>\n",
       "    <tr>\n",
       "      <th>2012-06-01</th>\n",
       "      <td>146</td>\n",
       "      <td>NaN</td>\n",
       "      <td>0</td>\n",
       "      <td>98</td>\n",
       "      <td>244</td>\n",
       "      <td>86</td>\n",
       "      <td>4</td>\n",
       "      <td>75</td>\n",
       "      <td>NaN</td>\n",
       "    </tr>\n",
       "    <tr>\n",
       "      <th>2012-07-01</th>\n",
       "      <td>98</td>\n",
       "      <td>NaN</td>\n",
       "      <td>2</td>\n",
       "      <td>80</td>\n",
       "      <td>108</td>\n",
       "      <td>53</td>\n",
       "      <td>6</td>\n",
       "      <td>54</td>\n",
       "      <td>NaN</td>\n",
       "    </tr>\n",
       "    <tr>\n",
       "      <th>2012-08-01</th>\n",
       "      <td>95</td>\n",
       "      <td>NaN</td>\n",
       "      <td>1</td>\n",
       "      <td>62</td>\n",
       "      <td>98</td>\n",
       "      <td>64</td>\n",
       "      <td>11</td>\n",
       "      <td>63</td>\n",
       "      <td>NaN</td>\n",
       "    </tr>\n",
       "    <tr>\n",
       "      <th>2012-09-01</th>\n",
       "      <td>244</td>\n",
       "      <td>NaN</td>\n",
       "      <td>2</td>\n",
       "      <td>165</td>\n",
       "      <td>432</td>\n",
       "      <td>198</td>\n",
       "      <td>12</td>\n",
       "      <td>173</td>\n",
       "      <td>NaN</td>\n",
       "    </tr>\n",
       "    <tr>\n",
       "      <th>2012-10-01</th>\n",
       "      <td>397</td>\n",
       "      <td>NaN</td>\n",
       "      <td>3</td>\n",
       "      <td>238</td>\n",
       "      <td>563</td>\n",
       "      <td>275</td>\n",
       "      <td>18</td>\n",
       "      <td>241</td>\n",
       "      <td>NaN</td>\n",
       "    </tr>\n",
       "    <tr>\n",
       "      <th>2012-11-01</th>\n",
       "      <td>273</td>\n",
       "      <td>NaN</td>\n",
       "      <td>0</td>\n",
       "      <td>182</td>\n",
       "      <td>443</td>\n",
       "      <td>258</td>\n",
       "      <td>12</td>\n",
       "      <td>194</td>\n",
       "      <td>NaN</td>\n",
       "    </tr>\n",
       "    <tr>\n",
       "      <th>2012-12-01</th>\n",
       "      <td>157</td>\n",
       "      <td>NaN</td>\n",
       "      <td>1</td>\n",
       "      <td>134</td>\n",
       "      <td>261</td>\n",
       "      <td>137</td>\n",
       "      <td>9</td>\n",
       "      <td>63</td>\n",
       "      <td>NaN</td>\n",
       "    </tr>\n",
       "    <tr>\n",
       "      <th>2012-01-13</th>\n",
       "      <td>75</td>\n",
       "      <td>NaN</td>\n",
       "      <td>0</td>\n",
       "      <td>41</td>\n",
       "      <td>105</td>\n",
       "      <td>64</td>\n",
       "      <td>2</td>\n",
       "      <td>0</td>\n",
       "      <td>NaN</td>\n",
       "    </tr>\n",
       "    <tr>\n",
       "      <th>2012-01-14</th>\n",
       "      <td>32</td>\n",
       "      <td>NaN</td>\n",
       "      <td>0</td>\n",
       "      <td>54</td>\n",
       "      <td>56</td>\n",
       "      <td>19</td>\n",
       "      <td>0</td>\n",
       "      <td>1</td>\n",
       "      <td>NaN</td>\n",
       "    </tr>\n",
       "    <tr>\n",
       "      <th>2012-01-15</th>\n",
       "      <td>54</td>\n",
       "      <td>NaN</td>\n",
       "      <td>0</td>\n",
       "      <td>33</td>\n",
       "      <td>60</td>\n",
       "      <td>18</td>\n",
       "      <td>0</td>\n",
       "      <td>0</td>\n",
       "      <td>NaN</td>\n",
       "    </tr>\n",
       "    <tr>\n",
       "      <th>2012-01-16</th>\n",
       "      <td>168</td>\n",
       "      <td>NaN</td>\n",
       "      <td>2</td>\n",
       "      <td>136</td>\n",
       "      <td>312</td>\n",
       "      <td>137</td>\n",
       "      <td>1</td>\n",
       "      <td>0</td>\n",
       "      <td>NaN</td>\n",
       "    </tr>\n",
       "    <tr>\n",
       "      <th>2012-01-17</th>\n",
       "      <td>155</td>\n",
       "      <td>NaN</td>\n",
       "      <td>0</td>\n",
       "      <td>86</td>\n",
       "      <td>256</td>\n",
       "      <td>74</td>\n",
       "      <td>0</td>\n",
       "      <td>0</td>\n",
       "      <td>NaN</td>\n",
       "    </tr>\n",
       "    <tr>\n",
       "      <th>2012-01-18</th>\n",
       "      <td>139</td>\n",
       "      <td>NaN</td>\n",
       "      <td>0</td>\n",
       "      <td>66</td>\n",
       "      <td>188</td>\n",
       "      <td>68</td>\n",
       "      <td>3</td>\n",
       "      <td>0</td>\n",
       "      <td>NaN</td>\n",
       "    </tr>\n",
       "    <tr>\n",
       "      <th>2012-01-19</th>\n",
       "      <td>191</td>\n",
       "      <td>NaN</td>\n",
       "      <td>1</td>\n",
       "      <td>104</td>\n",
       "      <td>248</td>\n",
       "      <td>79</td>\n",
       "      <td>3</td>\n",
       "      <td>0</td>\n",
       "      <td>NaN</td>\n",
       "    </tr>\n",
       "    <tr>\n",
       "      <th>2012-01-20</th>\n",
       "      <td>161</td>\n",
       "      <td>NaN</td>\n",
       "      <td>4</td>\n",
       "      <td>96</td>\n",
       "      <td>217</td>\n",
       "      <td>67</td>\n",
       "      <td>1</td>\n",
       "      <td>1</td>\n",
       "      <td>NaN</td>\n",
       "    </tr>\n",
       "    <tr>\n",
       "      <th>2012-01-21</th>\n",
       "      <td>53</td>\n",
       "      <td>NaN</td>\n",
       "      <td>0</td>\n",
       "      <td>47</td>\n",
       "      <td>70</td>\n",
       "      <td>32</td>\n",
       "      <td>1</td>\n",
       "      <td>0</td>\n",
       "      <td>NaN</td>\n",
       "    </tr>\n",
       "    <tr>\n",
       "      <th>2012-01-22</th>\n",
       "      <td>71</td>\n",
       "      <td>NaN</td>\n",
       "      <td>0</td>\n",
       "      <td>41</td>\n",
       "      <td>73</td>\n",
       "      <td>35</td>\n",
       "      <td>5</td>\n",
       "      <td>0</td>\n",
       "      <td>NaN</td>\n",
       "    </tr>\n",
       "    <tr>\n",
       "      <th>2012-01-23</th>\n",
       "      <td>210</td>\n",
       "      <td>NaN</td>\n",
       "      <td>6</td>\n",
       "      <td>114</td>\n",
       "      <td>357</td>\n",
       "      <td>91</td>\n",
       "      <td>6</td>\n",
       "      <td>0</td>\n",
       "      <td>NaN</td>\n",
       "    </tr>\n",
       "    <tr>\n",
       "      <th>2012-01-24</th>\n",
       "      <td>299</td>\n",
       "      <td>NaN</td>\n",
       "      <td>1</td>\n",
       "      <td>189</td>\n",
       "      <td>444</td>\n",
       "      <td>174</td>\n",
       "      <td>4</td>\n",
       "      <td>0</td>\n",
       "      <td>NaN</td>\n",
       "    </tr>\n",
       "    <tr>\n",
       "      <th>2012-01-25</th>\n",
       "      <td>334</td>\n",
       "      <td>NaN</td>\n",
       "      <td>1</td>\n",
       "      <td>217</td>\n",
       "      <td>453</td>\n",
       "      <td>180</td>\n",
       "      <td>4</td>\n",
       "      <td>0</td>\n",
       "      <td>NaN</td>\n",
       "    </tr>\n",
       "    <tr>\n",
       "      <th>2012-01-26</th>\n",
       "      <td>306</td>\n",
       "      <td>NaN</td>\n",
       "      <td>0</td>\n",
       "      <td>215</td>\n",
       "      <td>495</td>\n",
       "      <td>191</td>\n",
       "      <td>0</td>\n",
       "      <td>1</td>\n",
       "      <td>NaN</td>\n",
       "    </tr>\n",
       "    <tr>\n",
       "      <th>2012-01-27</th>\n",
       "      <td>91</td>\n",
       "      <td>NaN</td>\n",
       "      <td>5</td>\n",
       "      <td>79</td>\n",
       "      <td>204</td>\n",
       "      <td>65</td>\n",
       "      <td>0</td>\n",
       "      <td>0</td>\n",
       "      <td>NaN</td>\n",
       "    </tr>\n",
       "    <tr>\n",
       "      <th>2012-01-28</th>\n",
       "      <td>80</td>\n",
       "      <td>NaN</td>\n",
       "      <td>1</td>\n",
       "      <td>61</td>\n",
       "      <td>123</td>\n",
       "      <td>33</td>\n",
       "      <td>9</td>\n",
       "      <td>1</td>\n",
       "      <td>NaN</td>\n",
       "    </tr>\n",
       "    <tr>\n",
       "      <th>2012-01-29</th>\n",
       "      <td>87</td>\n",
       "      <td>NaN</td>\n",
       "      <td>1</td>\n",
       "      <td>65</td>\n",
       "      <td>132</td>\n",
       "      <td>40</td>\n",
       "      <td>7</td>\n",
       "      <td>0</td>\n",
       "      <td>NaN</td>\n",
       "    </tr>\n",
       "    <tr>\n",
       "      <th>2012-01-30</th>\n",
       "      <td>219</td>\n",
       "      <td>NaN</td>\n",
       "      <td>0</td>\n",
       "      <td>146</td>\n",
       "      <td>371</td>\n",
       "      <td>152</td>\n",
       "      <td>2</td>\n",
       "      <td>0</td>\n",
       "      <td>NaN</td>\n",
       "    </tr>\n",
       "    <tr>\n",
       "      <th>...</th>\n",
       "      <td>...</td>\n",
       "      <td>...</td>\n",
       "      <td>...</td>\n",
       "      <td>...</td>\n",
       "      <td>...</td>\n",
       "      <td>...</td>\n",
       "      <td>...</td>\n",
       "      <td>...</td>\n",
       "      <td>...</td>\n",
       "    </tr>\n",
       "    <tr>\n",
       "      <th>2012-07-10</th>\n",
       "      <td>1580</td>\n",
       "      <td>NaN</td>\n",
       "      <td>660</td>\n",
       "      <td>922</td>\n",
       "      <td>1629</td>\n",
       "      <td>860</td>\n",
       "      <td>695</td>\n",
       "      <td>2052</td>\n",
       "      <td>NaN</td>\n",
       "    </tr>\n",
       "    <tr>\n",
       "      <th>2012-08-10</th>\n",
       "      <td>1854</td>\n",
       "      <td>NaN</td>\n",
       "      <td>880</td>\n",
       "      <td>987</td>\n",
       "      <td>1818</td>\n",
       "      <td>1040</td>\n",
       "      <td>1115</td>\n",
       "      <td>2502</td>\n",
       "      <td>NaN</td>\n",
       "    </tr>\n",
       "    <tr>\n",
       "      <th>2012-09-10</th>\n",
       "      <td>4787</td>\n",
       "      <td>NaN</td>\n",
       "      <td>2210</td>\n",
       "      <td>3026</td>\n",
       "      <td>5138</td>\n",
       "      <td>3418</td>\n",
       "      <td>927</td>\n",
       "      <td>4078</td>\n",
       "      <td>NaN</td>\n",
       "    </tr>\n",
       "    <tr>\n",
       "      <th>2012-10-10</th>\n",
       "      <td>3115</td>\n",
       "      <td>NaN</td>\n",
       "      <td>1537</td>\n",
       "      <td>2081</td>\n",
       "      <td>3681</td>\n",
       "      <td>2608</td>\n",
       "      <td>560</td>\n",
       "      <td>2703</td>\n",
       "      <td>NaN</td>\n",
       "    </tr>\n",
       "    <tr>\n",
       "      <th>2012-11-10</th>\n",
       "      <td>3746</td>\n",
       "      <td>NaN</td>\n",
       "      <td>1857</td>\n",
       "      <td>2569</td>\n",
       "      <td>4694</td>\n",
       "      <td>3034</td>\n",
       "      <td>558</td>\n",
       "      <td>3457</td>\n",
       "      <td>NaN</td>\n",
       "    </tr>\n",
       "    <tr>\n",
       "      <th>2012-12-10</th>\n",
       "      <td>3169</td>\n",
       "      <td>NaN</td>\n",
       "      <td>1460</td>\n",
       "      <td>2261</td>\n",
       "      <td>4045</td>\n",
       "      <td>2564</td>\n",
       "      <td>448</td>\n",
       "      <td>3224</td>\n",
       "      <td>NaN</td>\n",
       "    </tr>\n",
       "    <tr>\n",
       "      <th>2012-10-13</th>\n",
       "      <td>1783</td>\n",
       "      <td>NaN</td>\n",
       "      <td>802</td>\n",
       "      <td>1205</td>\n",
       "      <td>2113</td>\n",
       "      <td>1183</td>\n",
       "      <td>681</td>\n",
       "      <td>2309</td>\n",
       "      <td>NaN</td>\n",
       "    </tr>\n",
       "    <tr>\n",
       "      <th>2012-10-14</th>\n",
       "      <td>587</td>\n",
       "      <td>NaN</td>\n",
       "      <td>287</td>\n",
       "      <td>443</td>\n",
       "      <td>852</td>\n",
       "      <td>503</td>\n",
       "      <td>65</td>\n",
       "      <td>952</td>\n",
       "      <td>NaN</td>\n",
       "    </tr>\n",
       "    <tr>\n",
       "      <th>2012-10-15</th>\n",
       "      <td>3292</td>\n",
       "      <td>NaN</td>\n",
       "      <td>1678</td>\n",
       "      <td>2165</td>\n",
       "      <td>4197</td>\n",
       "      <td>2754</td>\n",
       "      <td>560</td>\n",
       "      <td>3183</td>\n",
       "      <td>NaN</td>\n",
       "    </tr>\n",
       "    <tr>\n",
       "      <th>2012-10-16</th>\n",
       "      <td>3739</td>\n",
       "      <td>NaN</td>\n",
       "      <td>1858</td>\n",
       "      <td>2684</td>\n",
       "      <td>4681</td>\n",
       "      <td>2997</td>\n",
       "      <td>554</td>\n",
       "      <td>3593</td>\n",
       "      <td>NaN</td>\n",
       "    </tr>\n",
       "    <tr>\n",
       "      <th>2012-10-17</th>\n",
       "      <td>4098</td>\n",
       "      <td>NaN</td>\n",
       "      <td>1964</td>\n",
       "      <td>2645</td>\n",
       "      <td>4836</td>\n",
       "      <td>3063</td>\n",
       "      <td>728</td>\n",
       "      <td>3834</td>\n",
       "      <td>NaN</td>\n",
       "    </tr>\n",
       "    <tr>\n",
       "      <th>2012-10-18</th>\n",
       "      <td>4671</td>\n",
       "      <td>NaN</td>\n",
       "      <td>2292</td>\n",
       "      <td>3129</td>\n",
       "      <td>5542</td>\n",
       "      <td>3477</td>\n",
       "      <td>1108</td>\n",
       "      <td>4245</td>\n",
       "      <td>NaN</td>\n",
       "    </tr>\n",
       "    <tr>\n",
       "      <th>2012-10-19</th>\n",
       "      <td>1313</td>\n",
       "      <td>NaN</td>\n",
       "      <td>597</td>\n",
       "      <td>885</td>\n",
       "      <td>1668</td>\n",
       "      <td>1209</td>\n",
       "      <td>111</td>\n",
       "      <td>1486</td>\n",
       "      <td>NaN</td>\n",
       "    </tr>\n",
       "    <tr>\n",
       "      <th>2012-10-20</th>\n",
       "      <td>2011</td>\n",
       "      <td>NaN</td>\n",
       "      <td>748</td>\n",
       "      <td>1323</td>\n",
       "      <td>2266</td>\n",
       "      <td>1213</td>\n",
       "      <td>797</td>\n",
       "      <td>2243</td>\n",
       "      <td>NaN</td>\n",
       "    </tr>\n",
       "    <tr>\n",
       "      <th>2012-10-21</th>\n",
       "      <td>1277</td>\n",
       "      <td>NaN</td>\n",
       "      <td>609</td>\n",
       "      <td>869</td>\n",
       "      <td>1777</td>\n",
       "      <td>898</td>\n",
       "      <td>242</td>\n",
       "      <td>1648</td>\n",
       "      <td>NaN</td>\n",
       "    </tr>\n",
       "    <tr>\n",
       "      <th>2012-10-22</th>\n",
       "      <td>3650</td>\n",
       "      <td>NaN</td>\n",
       "      <td>1819</td>\n",
       "      <td>2495</td>\n",
       "      <td>4800</td>\n",
       "      <td>3023</td>\n",
       "      <td>757</td>\n",
       "      <td>3721</td>\n",
       "      <td>NaN</td>\n",
       "    </tr>\n",
       "    <tr>\n",
       "      <th>2012-10-23</th>\n",
       "      <td>4177</td>\n",
       "      <td>NaN</td>\n",
       "      <td>1997</td>\n",
       "      <td>2795</td>\n",
       "      <td>5216</td>\n",
       "      <td>3233</td>\n",
       "      <td>795</td>\n",
       "      <td>3554</td>\n",
       "      <td>NaN</td>\n",
       "    </tr>\n",
       "    <tr>\n",
       "      <th>2012-10-24</th>\n",
       "      <td>3744</td>\n",
       "      <td>NaN</td>\n",
       "      <td>1868</td>\n",
       "      <td>2625</td>\n",
       "      <td>4900</td>\n",
       "      <td>3035</td>\n",
       "      <td>649</td>\n",
       "      <td>3622</td>\n",
       "      <td>NaN</td>\n",
       "    </tr>\n",
       "    <tr>\n",
       "      <th>2012-10-25</th>\n",
       "      <td>3735</td>\n",
       "      <td>NaN</td>\n",
       "      <td>1815</td>\n",
       "      <td>2528</td>\n",
       "      <td>5010</td>\n",
       "      <td>3017</td>\n",
       "      <td>631</td>\n",
       "      <td>3767</td>\n",
       "      <td>NaN</td>\n",
       "    </tr>\n",
       "    <tr>\n",
       "      <th>2012-10-26</th>\n",
       "      <td>4290</td>\n",
       "      <td>NaN</td>\n",
       "      <td>1987</td>\n",
       "      <td>2754</td>\n",
       "      <td>5246</td>\n",
       "      <td>3000</td>\n",
       "      <td>1456</td>\n",
       "      <td>4578</td>\n",
       "      <td>NaN</td>\n",
       "    </tr>\n",
       "    <tr>\n",
       "      <th>2012-10-27</th>\n",
       "      <td>1857</td>\n",
       "      <td>NaN</td>\n",
       "      <td>792</td>\n",
       "      <td>1244</td>\n",
       "      <td>2461</td>\n",
       "      <td>1193</td>\n",
       "      <td>618</td>\n",
       "      <td>2471</td>\n",
       "      <td>NaN</td>\n",
       "    </tr>\n",
       "    <tr>\n",
       "      <th>2012-10-28</th>\n",
       "      <td>1310</td>\n",
       "      <td>NaN</td>\n",
       "      <td>697</td>\n",
       "      <td>910</td>\n",
       "      <td>1776</td>\n",
       "      <td>955</td>\n",
       "      <td>387</td>\n",
       "      <td>1876</td>\n",
       "      <td>NaN</td>\n",
       "    </tr>\n",
       "    <tr>\n",
       "      <th>2012-10-29</th>\n",
       "      <td>2919</td>\n",
       "      <td>NaN</td>\n",
       "      <td>1458</td>\n",
       "      <td>2071</td>\n",
       "      <td>3768</td>\n",
       "      <td>2440</td>\n",
       "      <td>411</td>\n",
       "      <td>2795</td>\n",
       "      <td>NaN</td>\n",
       "    </tr>\n",
       "    <tr>\n",
       "      <th>2012-10-30</th>\n",
       "      <td>2887</td>\n",
       "      <td>NaN</td>\n",
       "      <td>1251</td>\n",
       "      <td>2007</td>\n",
       "      <td>3516</td>\n",
       "      <td>2255</td>\n",
       "      <td>338</td>\n",
       "      <td>2790</td>\n",
       "      <td>NaN</td>\n",
       "    </tr>\n",
       "    <tr>\n",
       "      <th>2012-10-31</th>\n",
       "      <td>2634</td>\n",
       "      <td>NaN</td>\n",
       "      <td>1294</td>\n",
       "      <td>1835</td>\n",
       "      <td>3453</td>\n",
       "      <td>2220</td>\n",
       "      <td>245</td>\n",
       "      <td>2570</td>\n",
       "      <td>NaN</td>\n",
       "    </tr>\n",
       "    <tr>\n",
       "      <th>2012-01-11</th>\n",
       "      <td>2405</td>\n",
       "      <td>NaN</td>\n",
       "      <td>1208</td>\n",
       "      <td>1701</td>\n",
       "      <td>3082</td>\n",
       "      <td>2076</td>\n",
       "      <td>165</td>\n",
       "      <td>2461</td>\n",
       "      <td>NaN</td>\n",
       "    </tr>\n",
       "    <tr>\n",
       "      <th>2012-02-11</th>\n",
       "      <td>1582</td>\n",
       "      <td>NaN</td>\n",
       "      <td>737</td>\n",
       "      <td>1109</td>\n",
       "      <td>2277</td>\n",
       "      <td>1392</td>\n",
       "      <td>97</td>\n",
       "      <td>1888</td>\n",
       "      <td>NaN</td>\n",
       "    </tr>\n",
       "    <tr>\n",
       "      <th>2012-03-11</th>\n",
       "      <td>844</td>\n",
       "      <td>NaN</td>\n",
       "      <td>380</td>\n",
       "      <td>612</td>\n",
       "      <td>1137</td>\n",
       "      <td>713</td>\n",
       "      <td>105</td>\n",
       "      <td>1302</td>\n",
       "      <td>NaN</td>\n",
       "    </tr>\n",
       "    <tr>\n",
       "      <th>2012-04-11</th>\n",
       "      <td>966</td>\n",
       "      <td>NaN</td>\n",
       "      <td>446</td>\n",
       "      <td>710</td>\n",
       "      <td>1277</td>\n",
       "      <td>692</td>\n",
       "      <td>197</td>\n",
       "      <td>1374</td>\n",
       "      <td>NaN</td>\n",
       "    </tr>\n",
       "    <tr>\n",
       "      <th>2012-05-11</th>\n",
       "      <td>2247</td>\n",
       "      <td>NaN</td>\n",
       "      <td>1170</td>\n",
       "      <td>1705</td>\n",
       "      <td>3221</td>\n",
       "      <td>2143</td>\n",
       "      <td>179</td>\n",
       "      <td>2430</td>\n",
       "      <td>NaN</td>\n",
       "    </tr>\n",
       "  </tbody>\n",
       "</table>\n",
       "<p>310 rows × 9 columns</p>\n",
       "</div>"
      ],
      "text/plain": [
       "            Berri 1  Brébeuf (données non disponibles)  Côte-Sainte-Catherine  \\\n",
       "Date                                                                            \n",
       "2012-01-01       35                                NaN                      0   \n",
       "2012-02-01       83                                NaN                      1   \n",
       "2012-03-01      135                                NaN                      2   \n",
       "2012-04-01      144                                NaN                      1   \n",
       "2012-05-01      197                                NaN                      2   \n",
       "2012-06-01      146                                NaN                      0   \n",
       "2012-07-01       98                                NaN                      2   \n",
       "2012-08-01       95                                NaN                      1   \n",
       "2012-09-01      244                                NaN                      2   \n",
       "2012-10-01      397                                NaN                      3   \n",
       "2012-11-01      273                                NaN                      0   \n",
       "2012-12-01      157                                NaN                      1   \n",
       "2012-01-13       75                                NaN                      0   \n",
       "2012-01-14       32                                NaN                      0   \n",
       "2012-01-15       54                                NaN                      0   \n",
       "2012-01-16      168                                NaN                      2   \n",
       "2012-01-17      155                                NaN                      0   \n",
       "2012-01-18      139                                NaN                      0   \n",
       "2012-01-19      191                                NaN                      1   \n",
       "2012-01-20      161                                NaN                      4   \n",
       "2012-01-21       53                                NaN                      0   \n",
       "2012-01-22       71                                NaN                      0   \n",
       "2012-01-23      210                                NaN                      6   \n",
       "2012-01-24      299                                NaN                      1   \n",
       "2012-01-25      334                                NaN                      1   \n",
       "2012-01-26      306                                NaN                      0   \n",
       "2012-01-27       91                                NaN                      5   \n",
       "2012-01-28       80                                NaN                      1   \n",
       "2012-01-29       87                                NaN                      1   \n",
       "2012-01-30      219                                NaN                      0   \n",
       "...             ...                                ...                    ...   \n",
       "2012-07-10     1580                                NaN                    660   \n",
       "2012-08-10     1854                                NaN                    880   \n",
       "2012-09-10     4787                                NaN                   2210   \n",
       "2012-10-10     3115                                NaN                   1537   \n",
       "2012-11-10     3746                                NaN                   1857   \n",
       "2012-12-10     3169                                NaN                   1460   \n",
       "2012-10-13     1783                                NaN                    802   \n",
       "2012-10-14      587                                NaN                    287   \n",
       "2012-10-15     3292                                NaN                   1678   \n",
       "2012-10-16     3739                                NaN                   1858   \n",
       "2012-10-17     4098                                NaN                   1964   \n",
       "2012-10-18     4671                                NaN                   2292   \n",
       "2012-10-19     1313                                NaN                    597   \n",
       "2012-10-20     2011                                NaN                    748   \n",
       "2012-10-21     1277                                NaN                    609   \n",
       "2012-10-22     3650                                NaN                   1819   \n",
       "2012-10-23     4177                                NaN                   1997   \n",
       "2012-10-24     3744                                NaN                   1868   \n",
       "2012-10-25     3735                                NaN                   1815   \n",
       "2012-10-26     4290                                NaN                   1987   \n",
       "2012-10-27     1857                                NaN                    792   \n",
       "2012-10-28     1310                                NaN                    697   \n",
       "2012-10-29     2919                                NaN                   1458   \n",
       "2012-10-30     2887                                NaN                   1251   \n",
       "2012-10-31     2634                                NaN                   1294   \n",
       "2012-01-11     2405                                NaN                   1208   \n",
       "2012-02-11     1582                                NaN                    737   \n",
       "2012-03-11      844                                NaN                    380   \n",
       "2012-04-11      966                                NaN                    446   \n",
       "2012-05-11     2247                                NaN                   1170   \n",
       "\n",
       "            Maisonneuve 1  Maisonneuve 2  du Parc  Pierre-Dupuy  Rachel1  \\\n",
       "Date                                                                       \n",
       "2012-01-01             38             51       26            10       16   \n",
       "2012-02-01             68            153       53             6       43   \n",
       "2012-03-01            104            248       89             3       58   \n",
       "2012-04-01            116            318      111             8       61   \n",
       "2012-05-01            124            330       97            13       95   \n",
       "2012-06-01             98            244       86             4       75   \n",
       "2012-07-01             80            108       53             6       54   \n",
       "2012-08-01             62             98       64            11       63   \n",
       "2012-09-01            165            432      198            12      173   \n",
       "2012-10-01            238            563      275            18      241   \n",
       "2012-11-01            182            443      258            12      194   \n",
       "2012-12-01            134            261      137             9       63   \n",
       "2012-01-13             41            105       64             2        0   \n",
       "2012-01-14             54             56       19             0        1   \n",
       "2012-01-15             33             60       18             0        0   \n",
       "2012-01-16            136            312      137             1        0   \n",
       "2012-01-17             86            256       74             0        0   \n",
       "2012-01-18             66            188       68             3        0   \n",
       "2012-01-19            104            248       79             3        0   \n",
       "2012-01-20             96            217       67             1        1   \n",
       "2012-01-21             47             70       32             1        0   \n",
       "2012-01-22             41             73       35             5        0   \n",
       "2012-01-23            114            357       91             6        0   \n",
       "2012-01-24            189            444      174             4        0   \n",
       "2012-01-25            217            453      180             4        0   \n",
       "2012-01-26            215            495      191             0        1   \n",
       "2012-01-27             79            204       65             0        0   \n",
       "2012-01-28             61            123       33             9        1   \n",
       "2012-01-29             65            132       40             7        0   \n",
       "2012-01-30            146            371      152             2        0   \n",
       "...                   ...            ...      ...           ...      ...   \n",
       "2012-07-10            922           1629      860           695     2052   \n",
       "2012-08-10            987           1818     1040          1115     2502   \n",
       "2012-09-10           3026           5138     3418           927     4078   \n",
       "2012-10-10           2081           3681     2608           560     2703   \n",
       "2012-11-10           2569           4694     3034           558     3457   \n",
       "2012-12-10           2261           4045     2564           448     3224   \n",
       "2012-10-13           1205           2113     1183           681     2309   \n",
       "2012-10-14            443            852      503            65      952   \n",
       "2012-10-15           2165           4197     2754           560     3183   \n",
       "2012-10-16           2684           4681     2997           554     3593   \n",
       "2012-10-17           2645           4836     3063           728     3834   \n",
       "2012-10-18           3129           5542     3477          1108     4245   \n",
       "2012-10-19            885           1668     1209           111     1486   \n",
       "2012-10-20           1323           2266     1213           797     2243   \n",
       "2012-10-21            869           1777      898           242     1648   \n",
       "2012-10-22           2495           4800     3023           757     3721   \n",
       "2012-10-23           2795           5216     3233           795     3554   \n",
       "2012-10-24           2625           4900     3035           649     3622   \n",
       "2012-10-25           2528           5010     3017           631     3767   \n",
       "2012-10-26           2754           5246     3000          1456     4578   \n",
       "2012-10-27           1244           2461     1193           618     2471   \n",
       "2012-10-28            910           1776      955           387     1876   \n",
       "2012-10-29           2071           3768     2440           411     2795   \n",
       "2012-10-30           2007           3516     2255           338     2790   \n",
       "2012-10-31           1835           3453     2220           245     2570   \n",
       "2012-01-11           1701           3082     2076           165     2461   \n",
       "2012-02-11           1109           2277     1392            97     1888   \n",
       "2012-03-11            612           1137      713           105     1302   \n",
       "2012-04-11            710           1277      692           197     1374   \n",
       "2012-05-11           1705           3221     2143           179     2430   \n",
       "\n",
       "            St-Urbain (données non disponibles)  \n",
       "Date                                             \n",
       "2012-01-01                                  NaN  \n",
       "2012-02-01                                  NaN  \n",
       "2012-03-01                                  NaN  \n",
       "2012-04-01                                  NaN  \n",
       "2012-05-01                                  NaN  \n",
       "2012-06-01                                  NaN  \n",
       "2012-07-01                                  NaN  \n",
       "2012-08-01                                  NaN  \n",
       "2012-09-01                                  NaN  \n",
       "2012-10-01                                  NaN  \n",
       "2012-11-01                                  NaN  \n",
       "2012-12-01                                  NaN  \n",
       "2012-01-13                                  NaN  \n",
       "2012-01-14                                  NaN  \n",
       "2012-01-15                                  NaN  \n",
       "2012-01-16                                  NaN  \n",
       "2012-01-17                                  NaN  \n",
       "2012-01-18                                  NaN  \n",
       "2012-01-19                                  NaN  \n",
       "2012-01-20                                  NaN  \n",
       "2012-01-21                                  NaN  \n",
       "2012-01-22                                  NaN  \n",
       "2012-01-23                                  NaN  \n",
       "2012-01-24                                  NaN  \n",
       "2012-01-25                                  NaN  \n",
       "2012-01-26                                  NaN  \n",
       "2012-01-27                                  NaN  \n",
       "2012-01-28                                  NaN  \n",
       "2012-01-29                                  NaN  \n",
       "2012-01-30                                  NaN  \n",
       "...                                         ...  \n",
       "2012-07-10                                  NaN  \n",
       "2012-08-10                                  NaN  \n",
       "2012-09-10                                  NaN  \n",
       "2012-10-10                                  NaN  \n",
       "2012-11-10                                  NaN  \n",
       "2012-12-10                                  NaN  \n",
       "2012-10-13                                  NaN  \n",
       "2012-10-14                                  NaN  \n",
       "2012-10-15                                  NaN  \n",
       "2012-10-16                                  NaN  \n",
       "2012-10-17                                  NaN  \n",
       "2012-10-18                                  NaN  \n",
       "2012-10-19                                  NaN  \n",
       "2012-10-20                                  NaN  \n",
       "2012-10-21                                  NaN  \n",
       "2012-10-22                                  NaN  \n",
       "2012-10-23                                  NaN  \n",
       "2012-10-24                                  NaN  \n",
       "2012-10-25                                  NaN  \n",
       "2012-10-26                                  NaN  \n",
       "2012-10-27                                  NaN  \n",
       "2012-10-28                                  NaN  \n",
       "2012-10-29                                  NaN  \n",
       "2012-10-30                                  NaN  \n",
       "2012-10-31                                  NaN  \n",
       "2012-01-11                                  NaN  \n",
       "2012-02-11                                  NaN  \n",
       "2012-03-11                                  NaN  \n",
       "2012-04-11                                  NaN  \n",
       "2012-05-11                                  NaN  \n",
       "\n",
       "[310 rows x 9 columns]"
      ]
     },
     "execution_count": 18,
     "metadata": {},
     "output_type": "execute_result"
    }
   ],
   "source": [
    "bikes = pd.read_csv('bikes.csv', sep=';', parse_dates=['Date'], encoding='latin1', index_col='Date')\n",
    "bikes"
   ]
  },
  {
   "cell_type": "markdown",
   "metadata": {},
   "source": [
    "更多关于read_csv的说明请查阅documentation\n",
    "\n",
    "[read_csv](http://pandas.pydata.org/pandas-docs/stable/generated/pandas.read_csv.html)"
   ]
  },
  {
   "cell_type": "code",
   "execution_count": 19,
   "metadata": {
    "scrolled": true
   },
   "outputs": [
    {
     "data": {
      "text/html": [
       "<div>\n",
       "<table border=\"1\" class=\"dataframe\">\n",
       "  <thead>\n",
       "    <tr style=\"text-align: right;\">\n",
       "      <th></th>\n",
       "      <th>Berri 1</th>\n",
       "      <th>Brébeuf (données non disponibles)</th>\n",
       "      <th>Côte-Sainte-Catherine</th>\n",
       "      <th>Maisonneuve 1</th>\n",
       "      <th>Maisonneuve 2</th>\n",
       "      <th>du Parc</th>\n",
       "      <th>Pierre-Dupuy</th>\n",
       "      <th>Rachel1</th>\n",
       "      <th>St-Urbain (données non disponibles)</th>\n",
       "    </tr>\n",
       "    <tr>\n",
       "      <th>Date</th>\n",
       "      <th></th>\n",
       "      <th></th>\n",
       "      <th></th>\n",
       "      <th></th>\n",
       "      <th></th>\n",
       "      <th></th>\n",
       "      <th></th>\n",
       "      <th></th>\n",
       "      <th></th>\n",
       "    </tr>\n",
       "  </thead>\n",
       "  <tbody>\n",
       "    <tr>\n",
       "      <th>2012-01-01</th>\n",
       "      <td>35</td>\n",
       "      <td>NaN</td>\n",
       "      <td>0</td>\n",
       "      <td>38</td>\n",
       "      <td>51</td>\n",
       "      <td>26</td>\n",
       "      <td>10</td>\n",
       "      <td>16</td>\n",
       "      <td>NaN</td>\n",
       "    </tr>\n",
       "    <tr>\n",
       "      <th>2012-02-01</th>\n",
       "      <td>83</td>\n",
       "      <td>NaN</td>\n",
       "      <td>1</td>\n",
       "      <td>68</td>\n",
       "      <td>153</td>\n",
       "      <td>53</td>\n",
       "      <td>6</td>\n",
       "      <td>43</td>\n",
       "      <td>NaN</td>\n",
       "    </tr>\n",
       "    <tr>\n",
       "      <th>2012-03-01</th>\n",
       "      <td>135</td>\n",
       "      <td>NaN</td>\n",
       "      <td>2</td>\n",
       "      <td>104</td>\n",
       "      <td>248</td>\n",
       "      <td>89</td>\n",
       "      <td>3</td>\n",
       "      <td>58</td>\n",
       "      <td>NaN</td>\n",
       "    </tr>\n",
       "    <tr>\n",
       "      <th>2012-04-01</th>\n",
       "      <td>144</td>\n",
       "      <td>NaN</td>\n",
       "      <td>1</td>\n",
       "      <td>116</td>\n",
       "      <td>318</td>\n",
       "      <td>111</td>\n",
       "      <td>8</td>\n",
       "      <td>61</td>\n",
       "      <td>NaN</td>\n",
       "    </tr>\n",
       "    <tr>\n",
       "      <th>2012-05-01</th>\n",
       "      <td>197</td>\n",
       "      <td>NaN</td>\n",
       "      <td>2</td>\n",
       "      <td>124</td>\n",
       "      <td>330</td>\n",
       "      <td>97</td>\n",
       "      <td>13</td>\n",
       "      <td>95</td>\n",
       "      <td>NaN</td>\n",
       "    </tr>\n",
       "  </tbody>\n",
       "</table>\n",
       "</div>"
      ],
      "text/plain": [
       "            Berri 1  Brébeuf (données non disponibles)  Côte-Sainte-Catherine  \\\n",
       "Date                                                                            \n",
       "2012-01-01       35                                NaN                      0   \n",
       "2012-02-01       83                                NaN                      1   \n",
       "2012-03-01      135                                NaN                      2   \n",
       "2012-04-01      144                                NaN                      1   \n",
       "2012-05-01      197                                NaN                      2   \n",
       "\n",
       "            Maisonneuve 1  Maisonneuve 2  du Parc  Pierre-Dupuy  Rachel1  \\\n",
       "Date                                                                       \n",
       "2012-01-01             38             51       26            10       16   \n",
       "2012-02-01             68            153       53             6       43   \n",
       "2012-03-01            104            248       89             3       58   \n",
       "2012-04-01            116            318      111             8       61   \n",
       "2012-05-01            124            330       97            13       95   \n",
       "\n",
       "            St-Urbain (données non disponibles)  \n",
       "Date                                             \n",
       "2012-01-01                                  NaN  \n",
       "2012-02-01                                  NaN  \n",
       "2012-03-01                                  NaN  \n",
       "2012-04-01                                  NaN  \n",
       "2012-05-01                                  NaN  "
      ]
     },
     "execution_count": 19,
     "metadata": {},
     "output_type": "execute_result"
    }
   ],
   "source": [
    "bikes.head()"
   ]
  },
  {
   "cell_type": "code",
   "execution_count": 20,
   "metadata": {},
   "outputs": [
    {
     "data": {
      "text/html": [
       "<div>\n",
       "<table border=\"1\" class=\"dataframe\">\n",
       "  <thead>\n",
       "    <tr style=\"text-align: right;\">\n",
       "      <th></th>\n",
       "      <th>Berri 1</th>\n",
       "      <th>Brébeuf (données non disponibles)</th>\n",
       "      <th>Côte-Sainte-Catherine</th>\n",
       "      <th>Maisonneuve 1</th>\n",
       "      <th>Maisonneuve 2</th>\n",
       "      <th>du Parc</th>\n",
       "      <th>Pierre-Dupuy</th>\n",
       "      <th>Rachel1</th>\n",
       "      <th>St-Urbain (données non disponibles)</th>\n",
       "    </tr>\n",
       "    <tr>\n",
       "      <th>Date</th>\n",
       "      <th></th>\n",
       "      <th></th>\n",
       "      <th></th>\n",
       "      <th></th>\n",
       "      <th></th>\n",
       "      <th></th>\n",
       "      <th></th>\n",
       "      <th></th>\n",
       "      <th></th>\n",
       "    </tr>\n",
       "  </thead>\n",
       "  <tbody>\n",
       "    <tr>\n",
       "      <th>2012-01-01</th>\n",
       "      <td>35</td>\n",
       "      <td>NaN</td>\n",
       "      <td>0</td>\n",
       "      <td>38</td>\n",
       "      <td>51</td>\n",
       "      <td>26</td>\n",
       "      <td>10</td>\n",
       "      <td>16</td>\n",
       "      <td>NaN</td>\n",
       "    </tr>\n",
       "    <tr>\n",
       "      <th>2012-02-01</th>\n",
       "      <td>83</td>\n",
       "      <td>NaN</td>\n",
       "      <td>1</td>\n",
       "      <td>68</td>\n",
       "      <td>153</td>\n",
       "      <td>53</td>\n",
       "      <td>6</td>\n",
       "      <td>43</td>\n",
       "      <td>NaN</td>\n",
       "    </tr>\n",
       "    <tr>\n",
       "      <th>2012-03-01</th>\n",
       "      <td>135</td>\n",
       "      <td>NaN</td>\n",
       "      <td>2</td>\n",
       "      <td>104</td>\n",
       "      <td>248</td>\n",
       "      <td>89</td>\n",
       "      <td>3</td>\n",
       "      <td>58</td>\n",
       "      <td>NaN</td>\n",
       "    </tr>\n",
       "    <tr>\n",
       "      <th>2012-04-01</th>\n",
       "      <td>144</td>\n",
       "      <td>NaN</td>\n",
       "      <td>1</td>\n",
       "      <td>116</td>\n",
       "      <td>318</td>\n",
       "      <td>111</td>\n",
       "      <td>8</td>\n",
       "      <td>61</td>\n",
       "      <td>NaN</td>\n",
       "    </tr>\n",
       "    <tr>\n",
       "      <th>2012-05-01</th>\n",
       "      <td>197</td>\n",
       "      <td>NaN</td>\n",
       "      <td>2</td>\n",
       "      <td>124</td>\n",
       "      <td>330</td>\n",
       "      <td>97</td>\n",
       "      <td>13</td>\n",
       "      <td>95</td>\n",
       "      <td>NaN</td>\n",
       "    </tr>\n",
       "  </tbody>\n",
       "</table>\n",
       "</div>"
      ],
      "text/plain": [
       "            Berri 1  Brébeuf (données non disponibles)  Côte-Sainte-Catherine  \\\n",
       "Date                                                                            \n",
       "2012-01-01       35                                NaN                      0   \n",
       "2012-02-01       83                                NaN                      1   \n",
       "2012-03-01      135                                NaN                      2   \n",
       "2012-04-01      144                                NaN                      1   \n",
       "2012-05-01      197                                NaN                      2   \n",
       "\n",
       "            Maisonneuve 1  Maisonneuve 2  du Parc  Pierre-Dupuy  Rachel1  \\\n",
       "Date                                                                       \n",
       "2012-01-01             38             51       26            10       16   \n",
       "2012-02-01             68            153       53             6       43   \n",
       "2012-03-01            104            248       89             3       58   \n",
       "2012-04-01            116            318      111             8       61   \n",
       "2012-05-01            124            330       97            13       95   \n",
       "\n",
       "            St-Urbain (données non disponibles)  \n",
       "Date                                             \n",
       "2012-01-01                                  NaN  \n",
       "2012-02-01                                  NaN  \n",
       "2012-03-01                                  NaN  \n",
       "2012-04-01                                  NaN  \n",
       "2012-05-01                                  NaN  "
      ]
     },
     "execution_count": 20,
     "metadata": {},
     "output_type": "execute_result"
    }
   ],
   "source": [
    "bikes[:5]"
   ]
  },
  {
   "cell_type": "code",
   "execution_count": 24,
   "metadata": {},
   "outputs": [
    {
     "data": {
      "text/html": [
       "<div>\n",
       "<table border=\"1\" class=\"dataframe\">\n",
       "  <thead>\n",
       "    <tr style=\"text-align: right;\">\n",
       "      <th></th>\n",
       "      <th>Berri 1</th>\n",
       "    </tr>\n",
       "    <tr>\n",
       "      <th>Date</th>\n",
       "      <th></th>\n",
       "    </tr>\n",
       "  </thead>\n",
       "  <tbody>\n",
       "    <tr>\n",
       "      <th>2012-01-01</th>\n",
       "      <td>35</td>\n",
       "    </tr>\n",
       "    <tr>\n",
       "      <th>2012-02-01</th>\n",
       "      <td>83</td>\n",
       "    </tr>\n",
       "    <tr>\n",
       "      <th>2012-03-01</th>\n",
       "      <td>135</td>\n",
       "    </tr>\n",
       "    <tr>\n",
       "      <th>2012-04-01</th>\n",
       "      <td>144</td>\n",
       "    </tr>\n",
       "    <tr>\n",
       "      <th>2012-05-01</th>\n",
       "      <td>197</td>\n",
       "    </tr>\n",
       "  </tbody>\n",
       "</table>\n",
       "</div>"
      ],
      "text/plain": [
       "            Berri 1\n",
       "Date               \n",
       "2012-01-01       35\n",
       "2012-02-01       83\n",
       "2012-03-01      135\n",
       "2012-04-01      144\n",
       "2012-05-01      197"
      ]
     },
     "execution_count": 24,
     "metadata": {},
     "output_type": "execute_result"
    }
   ],
   "source": [
    "berri_bikes = bikes[['Berri 1']].copy()\n",
    "berri_bikes.head()"
   ]
  },
  {
   "cell_type": "code",
   "execution_count": 27,
   "metadata": {
    "scrolled": true
   },
   "outputs": [
    {
     "data": {
      "text/plain": [
       "DatetimeIndex(['2012-01-01', '2012-02-01', '2012-03-01', '2012-04-01',\n",
       "               '2012-05-01', '2012-06-01', '2012-07-01', '2012-08-01',\n",
       "               '2012-09-01', '2012-10-01',\n",
       "               ...\n",
       "               '2012-10-27', '2012-10-28', '2012-10-29', '2012-10-30',\n",
       "               '2012-10-31', '2012-01-11', '2012-02-11', '2012-03-11',\n",
       "               '2012-04-11', '2012-05-11'],\n",
       "              dtype='datetime64[ns]', name='Date', length=310, freq=None)"
      ]
     },
     "execution_count": 27,
     "metadata": {},
     "output_type": "execute_result"
    }
   ],
   "source": [
    "berri_bikes.index"
   ]
  },
  {
   "cell_type": "code",
   "execution_count": 28,
   "metadata": {},
   "outputs": [
    {
     "data": {
      "text/plain": [
       "array([ 1,  1,  1,  1,  1,  1,  1,  1,  1,  1,  1,  1, 13, 14, 15, 16, 17,\n",
       "       18, 19, 20, 21, 22, 23, 24, 25, 26, 27, 28, 29, 30, 31,  2,  2,  2,\n",
       "        2,  2,  2,  2,  2,  2,  2,  2,  2, 13, 14, 15, 16, 17, 18, 19, 20,\n",
       "       21, 22, 23, 24, 25, 26, 27, 28, 29,  3,  3,  3,  3,  3,  3,  3,  3,\n",
       "        3,  3,  3,  3, 13, 14, 15, 16, 17, 18, 19, 20, 21, 22, 23, 24, 25,\n",
       "       26, 27, 28, 29, 30, 31,  4,  4,  4,  4,  4,  4,  4,  4,  4,  4,  4,\n",
       "        4, 13, 14, 15, 16, 17, 18, 19, 20, 21, 22, 23, 24, 25, 26, 27, 28,\n",
       "       29, 30,  5,  5,  5,  5,  5,  5,  5,  5,  5,  5,  5,  5, 13, 14, 15,\n",
       "       16, 17, 18, 19, 20, 21, 22, 23, 24, 25, 26, 27, 28, 29, 30, 31,  6,\n",
       "        6,  6,  6,  6,  6,  6,  6,  6,  6,  6,  6, 13, 14, 15, 16, 17, 18,\n",
       "       19, 20, 21, 22, 23, 24, 25, 26, 27, 28, 29, 30,  7,  7,  7,  7,  7,\n",
       "        7,  7,  7,  7,  7,  7,  7, 13, 14, 15, 16, 17, 18, 19, 20, 21, 22,\n",
       "       23, 24, 25, 26, 27, 28, 29, 30, 31,  8,  8,  8,  8,  8,  8,  8,  8,\n",
       "        8,  8,  8,  8, 13, 14, 15, 16, 17, 18, 19, 20, 21, 22, 23, 24, 25,\n",
       "       26, 27, 28, 29, 30, 31,  9,  9,  9,  9,  9,  9,  9,  9,  9,  9,  9,\n",
       "        9, 13, 14, 15, 16, 17, 18, 19, 20, 21, 22, 23, 24, 25, 26, 27, 28,\n",
       "       29, 30, 10, 10, 10, 10, 10, 10, 10, 10, 10, 10, 10, 10, 13, 14, 15,\n",
       "       16, 17, 18, 19, 20, 21, 22, 23, 24, 25, 26, 27, 28, 29, 30, 31, 11,\n",
       "       11, 11, 11, 11])"
      ]
     },
     "execution_count": 28,
     "metadata": {},
     "output_type": "execute_result"
    }
   ],
   "source": [
    "berri_bikes.index.day"
   ]
  },
  {
   "cell_type": "code",
   "execution_count": 29,
   "metadata": {
    "scrolled": true
   },
   "outputs": [
    {
     "data": {
      "text/plain": [
       "array([6, 2, 3, 6, 1, 4, 6, 2, 5, 0, 3, 5, 4, 5, 6, 0, 1, 2, 3, 4, 5, 6, 0,\n",
       "       1, 2, 3, 4, 5, 6, 0, 1, 0, 3, 4, 0, 2, 5, 0, 3, 6, 1, 4, 6, 0, 1, 2,\n",
       "       3, 4, 5, 6, 0, 1, 2, 3, 4, 5, 6, 0, 1, 2, 1, 4, 5, 1, 3, 6, 1, 4, 0,\n",
       "       2, 5, 0, 1, 2, 3, 4, 5, 6, 0, 1, 2, 3, 4, 5, 6, 0, 1, 2, 3, 4, 5, 2,\n",
       "       5, 6, 2, 4, 0, 2, 5, 1, 3, 6, 1, 4, 5, 6, 0, 1, 2, 3, 4, 5, 6, 0, 1,\n",
       "       2, 3, 4, 5, 6, 0, 3, 6, 0, 3, 5, 1, 3, 6, 2, 4, 0, 2, 6, 0, 1, 2, 3,\n",
       "       4, 5, 6, 0, 1, 2, 3, 4, 5, 6, 0, 1, 2, 3, 4, 0, 1, 4, 6, 2, 4, 0, 3,\n",
       "       5, 1, 3, 2, 3, 4, 5, 6, 0, 1, 2, 3, 4, 5, 6, 0, 1, 2, 3, 4, 5, 5, 1,\n",
       "       2, 5, 0, 3, 5, 1, 4, 6, 2, 4, 4, 5, 6, 0, 1, 2, 3, 4, 5, 6, 0, 1, 2,\n",
       "       3, 4, 5, 6, 0, 1, 6, 2, 3, 6, 1, 4, 6, 2, 5, 0, 3, 5, 0, 1, 2, 3, 4,\n",
       "       5, 6, 0, 1, 2, 3, 4, 5, 6, 0, 1, 2, 3, 4, 0, 3, 4, 0, 2, 5, 0, 3, 6,\n",
       "       1, 4, 6, 3, 4, 5, 6, 0, 1, 2, 3, 4, 5, 6, 0, 1, 2, 3, 4, 5, 6, 1, 4,\n",
       "       5, 1, 3, 6, 1, 4, 0, 2, 5, 0, 5, 6, 0, 1, 2, 3, 4, 5, 6, 0, 1, 2, 3,\n",
       "       4, 5, 6, 0, 1, 2, 2, 5, 6, 2, 4])"
      ]
     },
     "execution_count": 29,
     "metadata": {},
     "output_type": "execute_result"
    }
   ],
   "source": [
    "berri_bikes.index.weekday"
   ]
  },
  {
   "cell_type": "code",
   "execution_count": 30,
   "metadata": {},
   "outputs": [
    {
     "data": {
      "text/html": [
       "<div>\n",
       "<table border=\"1\" class=\"dataframe\">\n",
       "  <thead>\n",
       "    <tr style=\"text-align: right;\">\n",
       "      <th></th>\n",
       "      <th>Berri 1</th>\n",
       "      <th>weekday</th>\n",
       "    </tr>\n",
       "    <tr>\n",
       "      <th>Date</th>\n",
       "      <th></th>\n",
       "      <th></th>\n",
       "    </tr>\n",
       "  </thead>\n",
       "  <tbody>\n",
       "    <tr>\n",
       "      <th>2012-01-01</th>\n",
       "      <td>35</td>\n",
       "      <td>6</td>\n",
       "    </tr>\n",
       "    <tr>\n",
       "      <th>2012-02-01</th>\n",
       "      <td>83</td>\n",
       "      <td>2</td>\n",
       "    </tr>\n",
       "    <tr>\n",
       "      <th>2012-03-01</th>\n",
       "      <td>135</td>\n",
       "      <td>3</td>\n",
       "    </tr>\n",
       "    <tr>\n",
       "      <th>2012-04-01</th>\n",
       "      <td>144</td>\n",
       "      <td>6</td>\n",
       "    </tr>\n",
       "    <tr>\n",
       "      <th>2012-05-01</th>\n",
       "      <td>197</td>\n",
       "      <td>1</td>\n",
       "    </tr>\n",
       "  </tbody>\n",
       "</table>\n",
       "</div>"
      ],
      "text/plain": [
       "            Berri 1  weekday\n",
       "Date                        \n",
       "2012-01-01       35        6\n",
       "2012-02-01       83        2\n",
       "2012-03-01      135        3\n",
       "2012-04-01      144        6\n",
       "2012-05-01      197        1"
      ]
     },
     "execution_count": 30,
     "metadata": {},
     "output_type": "execute_result"
    }
   ],
   "source": [
    "berri_bikes.loc[:, 'weekday'] = berri_bikes.index.weekday\n",
    "berri_bikes[:5]"
   ]
  },
  {
   "cell_type": "code",
   "execution_count": null,
   "metadata": {
    "collapsed": true
   },
   "outputs": [],
   "source": [
    "有了weekday信息之后，我们就可以把"
   ]
  }
 ],
 "metadata": {
  "kernelspec": {
   "display_name": "Python 3",
   "language": "python",
   "name": "python3"
  },
  "language_info": {
   "codemirror_mode": {
    "name": "ipython",
    "version": 3
   },
   "file_extension": ".py",
   "mimetype": "text/x-python",
   "name": "python",
   "nbconvert_exporter": "python",
   "pygments_lexer": "ipython3",
   "version": "3.6.1"
  }
 },
 "nbformat": 4,
 "nbformat_minor": 2
}
